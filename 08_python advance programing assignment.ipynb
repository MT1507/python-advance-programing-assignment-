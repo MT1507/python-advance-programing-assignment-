{
 "cells": [
  {
   "cell_type": "markdown",
   "id": "520532a0",
   "metadata": {},
   "source": [
    "Q 1. Given a sentence as txt, return True if any two adjacent words have this\n",
    "property: One word ends with a vowel, while the word immediately after\n",
    "begins with a vowel (a e i o u).\n",
    "- Examples\n",
    "- vowel_links(&quot;a very large appliance&quot;) ➞ True\n",
    "- vowel_links(&quot;go to edabit&quot;) ➞ True\n",
    "- vowel_links(&quot;an open fire&quot;) ➞ False\n",
    "- vowel_links(&quot;a sudden applause&quot;) ➞ False"
   ]
  },
  {
   "cell_type": "markdown",
   "id": "30c4a015",
   "metadata": {},
   "source": [
    "ans :"
   ]
  },
  {
   "cell_type": "code",
   "execution_count": 1,
   "id": "db4317f1",
   "metadata": {},
   "outputs": [],
   "source": [
    "import re\n",
    "def vowel_links(string):\n",
    "    x = re.search(\"[aeiou] [aeiou]\", string)\n",
    "    if x:\n",
    "        return True\n",
    "    else:\n",
    "        return False"
   ]
  },
  {
   "cell_type": "code",
   "execution_count": 2,
   "id": "16973dad",
   "metadata": {},
   "outputs": [
    {
     "data": {
      "text/plain": [
       "True"
      ]
     },
     "execution_count": 2,
     "metadata": {},
     "output_type": "execute_result"
    }
   ],
   "source": [
    "vowel_links(\"a very large appliance\")"
   ]
  },
  {
   "cell_type": "code",
   "execution_count": 3,
   "id": "18107f87",
   "metadata": {},
   "outputs": [
    {
     "data": {
      "text/plain": [
       "True"
      ]
     },
     "execution_count": 3,
     "metadata": {},
     "output_type": "execute_result"
    }
   ],
   "source": [
    "vowel_links(\"go to edabit\")"
   ]
  },
  {
   "cell_type": "code",
   "execution_count": 4,
   "id": "7635e4c9",
   "metadata": {},
   "outputs": [
    {
     "data": {
      "text/plain": [
       "False"
      ]
     },
     "execution_count": 4,
     "metadata": {},
     "output_type": "execute_result"
    }
   ],
   "source": [
    "vowel_links(\"an open fire\")"
   ]
  },
  {
   "cell_type": "code",
   "execution_count": 5,
   "id": "8e0b17c1",
   "metadata": {},
   "outputs": [
    {
     "data": {
      "text/plain": [
       "False"
      ]
     },
     "execution_count": 5,
     "metadata": {},
     "output_type": "execute_result"
    }
   ],
   "source": [
    "vowel_links(\"a sudden applause\")"
   ]
  },
  {
   "cell_type": "markdown",
   "id": "b28f666d",
   "metadata": {},
   "source": [
    "Q 2. You are given three inputs: a string, one letter, and a second letter.\n",
    "- Write a function that returns True if every instance of the first letter occurs\n",
    "before every instance of the second letter.\n",
    "- Examples\n",
    "- first_before_second(&quot;a rabbit jumps joyfully&quot;, &quot;a&quot;, &quot;j&quot;) ➞ True\n",
    "- Every instance of &quot;a&quot; occurs before every instance of &quot;j&quot;.\n",
    "- first_before_second(&quot;knaves knew about waterfalls&quot;, &quot;k&quot;, &quot;w&quot;) ➞ True\n",
    "- first_before_second(&quot;happy birthday&quot;, &quot;a&quot;, &quot;y&quot;) ➞ False\n",
    "- The &quot;a&quot; in &quot;birthday&quot; occurs after the &quot;y&quot; in &quot;happy&quot;.\n",
    "- first_before_second(&quot;precarious kangaroos&quot;, &quot;k&quot;, &quot;a&quot;) ➞ False"
   ]
  },
  {
   "cell_type": "code",
   "execution_count": 6,
   "id": "63b195b8",
   "metadata": {},
   "outputs": [],
   "source": [
    "import re\n",
    "def first_before_second(string,char1,char2):\n",
    "    l1 = []\n",
    "    l2 = []\n",
    "    x1 = re.search(f\"{char1}.+{char2}\", string)\n",
    "    if x1:\n",
    "        l1.append(1)\n",
    "\n",
    "    x2 = re.search(f\"{char2}.+{char1}\", string)\n",
    "    if x2 :\n",
    "        l2.append(1)\n",
    "    if 1 in l2:\n",
    "        return False\n",
    "    else:\n",
    "        return True\n",
    "        \n",
    "            "
   ]
  },
  {
   "cell_type": "code",
   "execution_count": 7,
   "id": "f47f2edf",
   "metadata": {},
   "outputs": [
    {
     "data": {
      "text/plain": [
       "True"
      ]
     },
     "execution_count": 7,
     "metadata": {},
     "output_type": "execute_result"
    }
   ],
   "source": [
    "first_before_second(\"a rabbit jumps joyfully\", \"a\", \"j\")"
   ]
  },
  {
   "cell_type": "code",
   "execution_count": 8,
   "id": "2c578b2b",
   "metadata": {},
   "outputs": [
    {
     "data": {
      "text/plain": [
       "True"
      ]
     },
     "execution_count": 8,
     "metadata": {},
     "output_type": "execute_result"
    }
   ],
   "source": [
    "first_before_second(\"knaves knew about waterfalls\", \"k\", \"w\") "
   ]
  },
  {
   "cell_type": "code",
   "execution_count": 9,
   "id": "587fa18b",
   "metadata": {},
   "outputs": [
    {
     "data": {
      "text/plain": [
       "False"
      ]
     },
     "execution_count": 9,
     "metadata": {},
     "output_type": "execute_result"
    }
   ],
   "source": [
    "first_before_second(\"happy birthday\", \"a\", \"y\")"
   ]
  },
  {
   "cell_type": "code",
   "execution_count": 10,
   "id": "211c936c",
   "metadata": {},
   "outputs": [
    {
     "data": {
      "text/plain": [
       "False"
      ]
     },
     "execution_count": 10,
     "metadata": {},
     "output_type": "execute_result"
    }
   ],
   "source": [
    "first_before_second(\"precarious kangaroos\", \"k\", \"a\") "
   ]
  },
  {
   "cell_type": "markdown",
   "id": "9e7ce0a2",
   "metadata": {},
   "source": [
    "Q 3. Create a function that returns the characters from a list or string r on odd or\n",
    "even positions, depending on the specifier s. The specifier will be &quot;odd&quot; for\n",
    "items on odd positions (1, 3, 5, ...) and &quot;even&quot; for items on even positions (2,\n",
    "4, 6, ...).\n",
    "- Examples\n",
    "- char_at_pos([2, 4, 6, 8, 10], &quot;even&quot;) ➞ [4, 8]\n",
    "-  4 &amp; 8 occupy the 2nd &amp; 4th positions\n",
    "- char_at_pos(&quot;EDABIT&quot;, &quot;odd&quot;) ➞ &quot;EAI&quot;\n",
    "-  &quot;E&quot;, &quot;A&quot; and &quot;I&quot; occupy the 1st, 3rd and 5th positions\n",
    "\n",
    "- char_at_pos([&quot;A&quot;, &quot;R&quot;, &quot;B&quot;, &quot;I&quot;, &quot;T&quot;, &quot;R&quot;, &quot;A&quot;, &quot;R&quot;, &quot;I&quot;, &quot;L&quot;, &quot;Y&quot;], &quot;odd&quot;) ➞ [&quot;A&quot;,\n",
    "&quot;B&quot;, &quot;T&quot;, &quot;A&quot;, &quot;I&quot;, &quot;Y&quot;]"
   ]
  },
  {
   "cell_type": "markdown",
   "id": "5f1523ba",
   "metadata": {},
   "source": [
    "ans :"
   ]
  },
  {
   "cell_type": "code",
   "execution_count": 11,
   "id": "edeb83fc",
   "metadata": {},
   "outputs": [],
   "source": [
    "def char_at_pos(list,string):\n",
    "    l = []\n",
    "    for i in range(len(list)):\n",
    "        if string == \"even\":\n",
    "            if i%2 ==1:\n",
    "                l.append(list[i])\n",
    "        elif string == \"odd\":\n",
    "            if i%2 ==0:\n",
    "                l.append(list[i])\n",
    "    \n",
    "    return l            \n",
    "            "
   ]
  },
  {
   "cell_type": "code",
   "execution_count": 12,
   "id": "782de1c3",
   "metadata": {},
   "outputs": [
    {
     "data": {
      "text/plain": [
       "[4, 8]"
      ]
     },
     "execution_count": 12,
     "metadata": {},
     "output_type": "execute_result"
    }
   ],
   "source": [
    "char_at_pos([2, 4, 6, 8, 10], \"even\")"
   ]
  },
  {
   "cell_type": "code",
   "execution_count": 13,
   "id": "a3d5a30f",
   "metadata": {},
   "outputs": [
    {
     "data": {
      "text/plain": [
       "['E', 'A', 'I']"
      ]
     },
     "execution_count": 13,
     "metadata": {},
     "output_type": "execute_result"
    }
   ],
   "source": [
    "char_at_pos(\"EDABIT\", \"odd\")"
   ]
  },
  {
   "cell_type": "code",
   "execution_count": 14,
   "id": "d34f6b8e",
   "metadata": {},
   "outputs": [
    {
     "data": {
      "text/plain": [
       "['A', 'B', 'T', 'A', 'I', 'Y']"
      ]
     },
     "execution_count": 14,
     "metadata": {},
     "output_type": "execute_result"
    }
   ],
   "source": [
    "char_at_pos([\"A\", \"R\", \"B\", \"I\", \"T\", \"R\", \"A\", \"R\", \"I\", \"L\", \"Y\"], \"odd\")"
   ]
  },
  {
   "cell_type": "markdown",
   "id": "ff622c34",
   "metadata": {},
   "source": [
    "Q 4. Write a function that returns the greatest common divisor of all list\n",
    "elements. If the greatest common divisor is 1, return 1.\n",
    "- Examples\n",
    "- GCD([10, 20, 40]) ➞ 10\n",
    "- GCD([1, 2, 3, 100]) ➞ 1\n",
    "- GCD([1024, 192, 2048, 512]) ➞ 64"
   ]
  },
  {
   "cell_type": "markdown",
   "id": "38afd6bb",
   "metadata": {},
   "source": [
    "ans :"
   ]
  },
  {
   "cell_type": "code",
   "execution_count": 15,
   "id": "428d9a07",
   "metadata": {},
   "outputs": [],
   "source": [
    "import math\n",
    "def GCD(list):\n",
    "    return math.gcd(*list)\n",
    "     \n",
    "            "
   ]
  },
  {
   "cell_type": "code",
   "execution_count": 16,
   "id": "169b6921",
   "metadata": {},
   "outputs": [
    {
     "data": {
      "text/plain": [
       "10"
      ]
     },
     "execution_count": 16,
     "metadata": {},
     "output_type": "execute_result"
    }
   ],
   "source": [
    "GCD([10, 20, 40])"
   ]
  },
  {
   "cell_type": "code",
   "execution_count": 17,
   "id": "1c30cfed",
   "metadata": {},
   "outputs": [
    {
     "data": {
      "text/plain": [
       "1"
      ]
     },
     "execution_count": 17,
     "metadata": {},
     "output_type": "execute_result"
    }
   ],
   "source": [
    "GCD([1, 2, 3, 100]) "
   ]
  },
  {
   "cell_type": "code",
   "execution_count": 18,
   "id": "44fafe62",
   "metadata": {},
   "outputs": [
    {
     "data": {
      "text/plain": [
       "64"
      ]
     },
     "execution_count": 18,
     "metadata": {},
     "output_type": "execute_result"
    }
   ],
   "source": [
    "GCD([1024, 192, 2048, 512])"
   ]
  },
  {
   "cell_type": "markdown",
   "id": "549db91a",
   "metadata": {},
   "source": [
    "Q 5. A number/string is a palindrome if the digits/characters are the same when\n",
    "read both forward and backward. Examples include &quot;racecar&quot; and 12321.\n",
    "Given a positive number n, check if n or the binary representation of n is\n",
    "palindromic. Return the following:\n",
    "-  &quot;Decimal only.&quot; if only n is a palindrome.\n",
    "-  &quot;Binary only.&quot; if only the binary representation of n is a palindrome.\n",
    "-  &quot;Decimal and binary.&quot; if both are palindromes.\n",
    "-  &quot;Neither!&quot; if neither are palindromes.\n",
    "- Examples\n",
    "-  palindrome_type(1306031) ➞ &quot;Decimal only.&quot;\n",
    " -  decimal = 1306031\n",
    " -  binary = &quot;100111110110110101111&quot;\n",
    "- palindrome_type(427787) ➞ &quot;Binary only.&quot;\n",
    " -  decimal = 427787\n",
    " -  binary = &quot;1101000011100001011&quot;\n",
    "- palindrome_type(313) ➞ &quot;Decimal and binary.&quot;\n",
    " -  decimal = 313\n",
    " -  binary = 100111001\n",
    "-  palindrome_type(934) ➞ &quot;Neither!&quot;\n",
    " -  decimal = 934\n",
    "  -   binary = &quot;1110100110&quot;"
   ]
  },
  {
   "cell_type": "markdown",
   "id": "06b493ea",
   "metadata": {},
   "source": [
    "ans :"
   ]
  },
  {
   "cell_type": "code",
   "execution_count": 19,
   "id": "2f50806b",
   "metadata": {},
   "outputs": [],
   "source": [
    "def palindrome_type(num):\n",
    "    if (str(num) == str(num)[::-1]) and  (bin(int(num))[2::] == bin(int(num))[2::][::-1]):\n",
    "        return \"Decimal and binary.\"\n",
    "    elif str(num) ==str(num)[::-1]:\n",
    "        return \"Decimal only.\"\n",
    "    elif  bin(int(num))[2::] == bin(int(num))[2::][::-1]:\n",
    "        return \"Binary only.\"   \n",
    "    else :\n",
    "        return \"Neither!\"\n",
    "\n",
    "            "
   ]
  },
  {
   "cell_type": "code",
   "execution_count": 20,
   "id": "cacfb2d9",
   "metadata": {},
   "outputs": [
    {
     "data": {
      "text/plain": [
       "'Decimal only.'"
      ]
     },
     "execution_count": 20,
     "metadata": {},
     "output_type": "execute_result"
    }
   ],
   "source": [
    "palindrome_type(1306031)"
   ]
  },
  {
   "cell_type": "code",
   "execution_count": 21,
   "id": "e54cfc87",
   "metadata": {},
   "outputs": [
    {
     "data": {
      "text/plain": [
       "'Binary only.'"
      ]
     },
     "execution_count": 21,
     "metadata": {},
     "output_type": "execute_result"
    }
   ],
   "source": [
    "palindrome_type(427787)"
   ]
  },
  {
   "cell_type": "code",
   "execution_count": 22,
   "id": "c8437e7b",
   "metadata": {},
   "outputs": [
    {
     "data": {
      "text/plain": [
       "'Decimal and binary.'"
      ]
     },
     "execution_count": 22,
     "metadata": {},
     "output_type": "execute_result"
    }
   ],
   "source": [
    "palindrome_type(313) "
   ]
  },
  {
   "cell_type": "code",
   "execution_count": 23,
   "id": "e6ee3084",
   "metadata": {},
   "outputs": [
    {
     "data": {
      "text/plain": [
       "'Neither!'"
      ]
     },
     "execution_count": 23,
     "metadata": {},
     "output_type": "execute_result"
    }
   ],
   "source": [
    "palindrome_type(934)"
   ]
  },
  {
   "cell_type": "code",
   "execution_count": null,
   "id": "b1400f77",
   "metadata": {},
   "outputs": [],
   "source": []
  },
  {
   "cell_type": "code",
   "execution_count": null,
   "id": "8b3cfe9b",
   "metadata": {},
   "outputs": [],
   "source": []
  }
 ],
 "metadata": {
  "kernelspec": {
   "display_name": "Python 3 (ipykernel)",
   "language": "python",
   "name": "python3"
  },
  "language_info": {
   "codemirror_mode": {
    "name": "ipython",
    "version": 3
   },
   "file_extension": ".py",
   "mimetype": "text/x-python",
   "name": "python",
   "nbconvert_exporter": "python",
   "pygments_lexer": "ipython3",
   "version": "3.9.12"
  }
 },
 "nbformat": 4,
 "nbformat_minor": 5
}
