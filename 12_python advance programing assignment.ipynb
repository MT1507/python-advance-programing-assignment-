{
 "cells": [
  {
   "cell_type": "markdown",
   "id": "158b7b85",
   "metadata": {},
   "source": [
    "Q 1. For this challenge, forget how to add two numbers together. The best\n",
    "explanation on what to do for this function is this meme:\n",
    "- Examples\n",
    "- meme_sum(26, 39) ➞ 515\n",
    "- 2+3 = 5, 6+9 = 15\n",
    "- 26 + 39 = 515\n",
    "- meme_sum(122, 81) ➞ 1103\n",
    "- 1+0 = 1, 2+8 = 10, 2+1 = 3\n",
    "- 122 + 81 = 1103\n",
    "- meme_sum(1222, 30277) ➞ 31499"
   ]
  },
  {
   "cell_type": "markdown",
   "id": "a1cd9af0",
   "metadata": {},
   "source": [
    "ans :"
   ]
  },
  {
   "cell_type": "code",
   "execution_count": 1,
   "id": "4f56459c",
   "metadata": {},
   "outputs": [],
   "source": [
    "def meme_sum(a,b):\n",
    "    a = str(a)\n",
    "    b = str(b)\n",
    "    if len(a)<len(b):\n",
    "        a = ((len(b)-len(a))*\"0\")+a\n",
    "    if len(b)<len(a):\n",
    "        b = ((len(a)-len(b))*\"0\")+b\n",
    "    l = []\n",
    "    for i in range(len(b)):\n",
    "        l.append(str(int(a[i])+int(b[i])))    \n",
    "    return int(\"\".join(l))    "
   ]
  },
  {
   "cell_type": "markdown",
   "id": "d4573554",
   "metadata": {},
   "source": [
    "# OR"
   ]
  },
  {
   "cell_type": "code",
   "execution_count": 2,
   "id": "960ab5c6",
   "metadata": {},
   "outputs": [],
   "source": [
    "def meme_sum(*args):\n",
    "    l = sorted([str(i) for i in args],key=lambda l:len(l))\n",
    "    l1 = []\n",
    "    for i in l:\n",
    "        i = ((len(l[-1])-len(i))*\"0\")+i\n",
    "        l1.append(i)\n",
    "    n = 0\n",
    "    l2 = []\n",
    "    while n <len(l1[0]):\n",
    "        sum = 0\n",
    "        for i in l1:\n",
    "            sum= sum + int(i[n])\n",
    "        l2.append(str(sum))\n",
    "        sum = 0\n",
    "        n = n+1\n",
    "    return int(\"\".join(l2))"
   ]
  },
  {
   "cell_type": "code",
   "execution_count": 3,
   "id": "a9c6b392",
   "metadata": {},
   "outputs": [
    {
     "data": {
      "text/plain": [
       "515"
      ]
     },
     "execution_count": 3,
     "metadata": {},
     "output_type": "execute_result"
    }
   ],
   "source": [
    "meme_sum(26, 39) "
   ]
  },
  {
   "cell_type": "code",
   "execution_count": 4,
   "id": "785f5c5c",
   "metadata": {},
   "outputs": [
    {
     "data": {
      "text/plain": [
       "1103"
      ]
     },
     "execution_count": 4,
     "metadata": {},
     "output_type": "execute_result"
    }
   ],
   "source": [
    "meme_sum(122, 81)"
   ]
  },
  {
   "cell_type": "code",
   "execution_count": 5,
   "id": "82d88325",
   "metadata": {},
   "outputs": [
    {
     "data": {
      "text/plain": [
       "31499"
      ]
     },
     "execution_count": 5,
     "metadata": {},
     "output_type": "execute_result"
    }
   ],
   "source": [
    "meme_sum(1222, 30277) "
   ]
  },
  {
   "cell_type": "code",
   "execution_count": 6,
   "id": "7cd52a1e",
   "metadata": {},
   "outputs": [
    {
     "data": {
      "text/plain": [
       "54510813232934"
      ]
     },
     "execution_count": 6,
     "metadata": {},
     "output_type": "execute_result"
    }
   ],
   "source": [
    "meme_sum(2446, 345, 445646, 545646464, 645, 74,4)"
   ]
  },
  {
   "cell_type": "markdown",
   "id": "ef596b97",
   "metadata": {},
   "source": [
    "Q 2. Given an integer, create a function that returns the next prime. If the\n",
    "number is prime, return the number itself.\n",
    "- Examples\n",
    "\n",
    "- next_prime(12) ➞ 13\n",
    "- next_prime(24) ➞ 29\n",
    "- next_prime(11) ➞ 11\n",
    "-  11 is a prime, so we return the number itself."
   ]
  },
  {
   "cell_type": "markdown",
   "id": "2641f1da",
   "metadata": {},
   "source": [
    "ans :"
   ]
  },
  {
   "cell_type": "code",
   "execution_count": 7,
   "id": "343be371",
   "metadata": {},
   "outputs": [],
   "source": [
    "from sympy import *\n",
    "\n",
    "def next_prime(n):\n",
    "    prime_flag = 0\n",
    "    for i in range(2, int(sqrt(n)) + 1):\n",
    "        if (n % i == 0):\n",
    "            prime_flag = 1\n",
    "            break\n",
    "    if (prime_flag == 0):\n",
    "        return n\n",
    "    else:\n",
    "        return nextprime(n)\n",
    "\n"
   ]
  },
  {
   "cell_type": "code",
   "execution_count": 8,
   "id": "e68f8c99",
   "metadata": {},
   "outputs": [
    {
     "data": {
      "text/plain": [
       "13"
      ]
     },
     "execution_count": 8,
     "metadata": {},
     "output_type": "execute_result"
    }
   ],
   "source": [
    "next_prime(12) "
   ]
  },
  {
   "cell_type": "code",
   "execution_count": 9,
   "id": "993ddc78",
   "metadata": {},
   "outputs": [
    {
     "data": {
      "text/plain": [
       "29"
      ]
     },
     "execution_count": 9,
     "metadata": {},
     "output_type": "execute_result"
    }
   ],
   "source": [
    "next_prime(24)"
   ]
  },
  {
   "cell_type": "code",
   "execution_count": 10,
   "id": "1233f3f3",
   "metadata": {},
   "outputs": [
    {
     "data": {
      "text/plain": [
       "11"
      ]
     },
     "execution_count": 10,
     "metadata": {},
     "output_type": "execute_result"
    }
   ],
   "source": [
    "next_prime(11)"
   ]
  },
  {
   "cell_type": "markdown",
   "id": "15fbba93",
   "metadata": {},
   "source": [
    "Q 3 \n",
    "- If a person traveled up a hill for 18mins at 20mph and then traveled back\n",
    "down the same path at 60mph then their average speed traveled was 30mph.\n",
    "- Write a function that returns the average speed traveled given an uphill time,\n",
    "uphill rate and a downhill rate. Uphill time is given in minutes. Return the rate\n",
    "as an integer (mph). No rounding is necessary.\n",
    "- Examples\n",
    "- ave_spd(18, 20, 60) ➞ 30\n",
    "- ave_spd(30, 10, 30) ➞ 15\n",
    "- ave_spd(30, 8, 24) ➞ 12"
   ]
  },
  {
   "cell_type": "markdown",
   "id": "37e16a42",
   "metadata": {},
   "source": [
    "ans :"
   ]
  },
  {
   "cell_type": "code",
   "execution_count": 11,
   "id": "dbd749f7",
   "metadata": {},
   "outputs": [],
   "source": [
    "def ave_spd(time,upspeed,downspeed):\n",
    "    return int((2*upspeed*downspeed)/(upspeed+downspeed))"
   ]
  },
  {
   "cell_type": "code",
   "execution_count": 12,
   "id": "356640f4",
   "metadata": {},
   "outputs": [
    {
     "data": {
      "text/plain": [
       "30"
      ]
     },
     "execution_count": 12,
     "metadata": {},
     "output_type": "execute_result"
    }
   ],
   "source": [
    "ave_spd(18, 20, 60) "
   ]
  },
  {
   "cell_type": "code",
   "execution_count": 13,
   "id": "91474b5f",
   "metadata": {},
   "outputs": [
    {
     "data": {
      "text/plain": [
       "15"
      ]
     },
     "execution_count": 13,
     "metadata": {},
     "output_type": "execute_result"
    }
   ],
   "source": [
    "ave_spd(30, 10, 30) "
   ]
  },
  {
   "cell_type": "code",
   "execution_count": 14,
   "id": "0ab0b1a8",
   "metadata": {},
   "outputs": [
    {
     "data": {
      "text/plain": [
       "12"
      ]
     },
     "execution_count": 14,
     "metadata": {},
     "output_type": "execute_result"
    }
   ],
   "source": [
    "ave_spd(30, 8, 24) "
   ]
  },
  {
   "cell_type": "markdown",
   "id": "9a582756",
   "metadata": {},
   "source": [
    "Q 4. The Kempner Function, applied to a composite number, permits to find the\n",
    "smallest integer greater than zero whose factorial is exactly divided by the\n",
    "number.\n",
    "- kempner(6) ➞ 3\n",
    "- 1! = 1 % 6 &gt; 0\n",
    "- 2! = 2 % 6 &gt; 0\n",
    "- 3! = 6 % 6 === 0\n",
    "- kempner(10) ➞ 5\n",
    "- 1! = 1 % 10 &gt; 0\n",
    "- 2! = 2 % 10 &gt; 0\n",
    "- 3! = 6 % 10 &gt; 0\n",
    "- 4! = 24 % 10 &gt; 0\n",
    "- 5! = 120 % 10 === 0\n",
    "- A Kempner Function applied to a prime will always return the prime itself.\n",
    "- kempner(2) ➞ 2\n",
    "- kempner(5) ➞ 5\n",
    "- Given an integer n, implement a Kempner Function.\n",
    "- Examples\n",
    "- kempner(6) ➞ 3\n",
    "- kempner(10) ➞ 5\n",
    "- kempner(2) ➞ 2"
   ]
  },
  {
   "cell_type": "markdown",
   "id": "26666ebb",
   "metadata": {},
   "source": [
    "ans:\n"
   ]
  },
  {
   "cell_type": "code",
   "execution_count": 15,
   "id": "2fa1c421",
   "metadata": {},
   "outputs": [],
   "source": [
    "def isPrime(n):\n",
    "    if(n==1 or n==0):\n",
    "        return False\n",
    "    for i in range(2,(n//2)+1):\n",
    "        if(n%i==0):\n",
    "            return False\n",
    "    return True\n",
    "\n",
    "def fact(num):\n",
    "    if num <=1:\n",
    "        return 1\n",
    "    return num*fact(num-1)\n",
    "\n",
    "def kempner(n):\n",
    "    if isPrime(n) == False:\n",
    "        for i in range(1,n+1):\n",
    "            if fact(i)%n ==0:\n",
    "                return i\n",
    "    else:\n",
    "        return n\n",
    "    "
   ]
  },
  {
   "cell_type": "code",
   "execution_count": 16,
   "id": "586d981e",
   "metadata": {},
   "outputs": [
    {
     "data": {
      "text/plain": [
       "3"
      ]
     },
     "execution_count": 16,
     "metadata": {},
     "output_type": "execute_result"
    }
   ],
   "source": [
    "kempner(6)"
   ]
  },
  {
   "cell_type": "code",
   "execution_count": 17,
   "id": "260d85be",
   "metadata": {},
   "outputs": [
    {
     "data": {
      "text/plain": [
       "5"
      ]
     },
     "execution_count": 17,
     "metadata": {},
     "output_type": "execute_result"
    }
   ],
   "source": [
    "kempner(10)"
   ]
  },
  {
   "cell_type": "code",
   "execution_count": 18,
   "id": "2c46d067",
   "metadata": {},
   "outputs": [
    {
     "data": {
      "text/plain": [
       "2"
      ]
     },
     "execution_count": 18,
     "metadata": {},
     "output_type": "execute_result"
    }
   ],
   "source": [
    "kempner(2)"
   ]
  },
  {
   "cell_type": "code",
   "execution_count": 19,
   "id": "8900238a",
   "metadata": {},
   "outputs": [
    {
     "data": {
      "text/plain": [
       "5"
      ]
     },
     "execution_count": 19,
     "metadata": {},
     "output_type": "execute_result"
    }
   ],
   "source": [
    "kempner(5)"
   ]
  },
  {
   "cell_type": "markdown",
   "id": "c363e7a2",
   "metadata": {},
   "source": [
    "Q 5. You work in a factory, and your job is to take items from a conveyor belt\n",
    "and pack them into boxes. Each box can hold a maximum of 10 kgs. Given a\n",
    "list containing the weight (in kg) of each item, how many boxes would you\n",
    "need to pack all of the items?\n",
    "- Example\n",
    "- boxes([2, 1, 2, 5, 4, 3, 6, 1, 1, 9, 3, 2]) ➞ 5\n",
    "- Box 1 = [2, 1, 2, 5] (10kg)\n",
    "- Box 2 = [4, 3] (7kg)\n",
    "- Box 3 = [6, 1, 1] (8kg)\n",
    "- Box 4 = [9] (9kg)\n",
    "- Box 5 = [3, 2] (5kg)"
   ]
  },
  {
   "cell_type": "markdown",
   "id": "9352292e",
   "metadata": {},
   "source": [
    "ans :"
   ]
  },
  {
   "cell_type": "code",
   "execution_count": 20,
   "id": "99cf5cc9",
   "metadata": {},
   "outputs": [
    {
     "name": "stdout",
     "output_type": "stream",
     "text": [
      "boxes([2, 1, 2, 5, 4, 3, 6, 1, 1, 9, 3, 2]) ➞ [[2, 1, 2, 5], [4, 3], [6, 1, 1], [9], [3, 2]] ➞ 5\n"
     ]
    }
   ],
   "source": [
    "def boxes(in_list):\n",
    "    in_list_clone = in_list.copy()\n",
    "    output = []\n",
    "    temp_box = []\n",
    "    while True:\n",
    "        if len(in_list) != 0:\n",
    "            if sum(temp_box) <= 10:\n",
    "                temp_box.append(in_list.pop(0))\n",
    "            else:\n",
    "                in_list.insert(0,temp_box.pop())\n",
    "                output.append(temp_box)\n",
    "                temp_box = []\n",
    "        else:\n",
    "            output.append(temp_box)\n",
    "            temp_box = []\n",
    "            break\n",
    "    print(f'boxes({in_list_clone}) ➞ {output} ➞ {len(output)}')    \n",
    "    \n",
    "boxes([2, 1, 2, 5, 4, 3, 6, 1, 1, 9, 3, 2])"
   ]
  },
  {
   "cell_type": "code",
   "execution_count": null,
   "id": "b0e4f62c",
   "metadata": {},
   "outputs": [],
   "source": []
  },
  {
   "cell_type": "code",
   "execution_count": null,
   "id": "bdf480c2",
   "metadata": {},
   "outputs": [],
   "source": []
  },
  {
   "cell_type": "code",
   "execution_count": null,
   "id": "9fdc8bcd",
   "metadata": {},
   "outputs": [],
   "source": []
  }
 ],
 "metadata": {
  "kernelspec": {
   "display_name": "Python 3 (ipykernel)",
   "language": "python",
   "name": "python3"
  },
  "language_info": {
   "codemirror_mode": {
    "name": "ipython",
    "version": 3
   },
   "file_extension": ".py",
   "mimetype": "text/x-python",
   "name": "python",
   "nbconvert_exporter": "python",
   "pygments_lexer": "ipython3",
   "version": "3.9.12"
  }
 },
 "nbformat": 4,
 "nbformat_minor": 5
}
