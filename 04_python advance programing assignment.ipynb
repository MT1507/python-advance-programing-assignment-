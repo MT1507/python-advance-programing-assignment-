{
 "cells": [
  {
   "cell_type": "markdown",
   "id": "cdda6032",
   "metadata": {},
   "source": [
    "Q 1. In mathematics, the Fibonacci numbers, commonly denoted Fn, form a\n",
    "sequence, called the Fibonacci sequence, such that each number is the sum\n",
    "of the two preceding ones, starting from 0 and 1:\n",
    "- The beginning of the sequence is this:\n",
    "- 0, 1, 1, 2, 3, 5, 8, 13, 21, 34, 55, 89, 144, ...\n",
    "- The function fastFib(num) returns the fibonacci number Fn, of the given num\n",
    "as an argument.\n",
    "- Examples\n",
    "- fib_fast(5) ➞ 5\n",
    "- fib_fast(10) ➞ 55\n",
    "- fib_fast(20) ➞ 6765\n",
    "- fib_fast(50) ➞ 12586269025"
   ]
  },
  {
   "cell_type": "markdown",
   "id": "9dd117f8",
   "metadata": {},
   "source": [
    "ans:"
   ]
  },
  {
   "cell_type": "code",
   "execution_count": 20,
   "id": "92eedecc",
   "metadata": {},
   "outputs": [],
   "source": [
    "def fib_fast(num):\n",
    "    a = 0\n",
    "    b = 1\n",
    "    if num <0:\n",
    "        return \"incorrect Input\"\n",
    "    elif num ==0:\n",
    "        return 0\n",
    "    elif num ==1:\n",
    "        return b\n",
    "    else :\n",
    "        for i in range(1,num):\n",
    "            c = a+b\n",
    "            a = b\n",
    "            b = c\n",
    "        return b"
   ]
  },
  {
   "cell_type": "code",
   "execution_count": 21,
   "id": "ae6c5eb9",
   "metadata": {},
   "outputs": [
    {
     "data": {
      "text/plain": [
       "5"
      ]
     },
     "execution_count": 21,
     "metadata": {},
     "output_type": "execute_result"
    }
   ],
   "source": [
    "fib_fast(5)"
   ]
  },
  {
   "cell_type": "code",
   "execution_count": 22,
   "id": "c7bdf836",
   "metadata": {},
   "outputs": [
    {
     "data": {
      "text/plain": [
       "55"
      ]
     },
     "execution_count": 22,
     "metadata": {},
     "output_type": "execute_result"
    }
   ],
   "source": [
    "fib_fast(10)"
   ]
  },
  {
   "cell_type": "code",
   "execution_count": 23,
   "id": "a8bbc0d7",
   "metadata": {},
   "outputs": [
    {
     "data": {
      "text/plain": [
       "6765"
      ]
     },
     "execution_count": 23,
     "metadata": {},
     "output_type": "execute_result"
    }
   ],
   "source": [
    "fib_fast(20)"
   ]
  },
  {
   "cell_type": "code",
   "execution_count": 24,
   "id": "4d35892c",
   "metadata": {},
   "outputs": [
    {
     "data": {
      "text/plain": [
       "12586269025"
      ]
     },
     "execution_count": 24,
     "metadata": {},
     "output_type": "execute_result"
    }
   ],
   "source": [
    "fib_fast(50)"
   ]
  },
  {
   "cell_type": "markdown",
   "id": "06847c5d",
   "metadata": {},
   "source": [
    "Q 2. Create a function that takes a strings characters as ASCII and returns each\n",
    "characters hexadecimal value as a string.\n",
    "- Examples\n",
    "- convert_to_hex(&quot;hello world&quot;) ➞ &quot;68 65 6c 6c 6f 20 77 6f 72 6c 64&quot;\n",
    "- convert_to_hex(&quot;Big Boi&quot;) ➞ &quot;42 69 67 20 42 6f 69&quot;\n",
    "- convert_to_hex(&quot;Marty Poppinson&quot;) ➞ &quot;4d 61 72 74 79 20 50 6f 70 70 69 6e\n",
    "73 6f 6e&quot;"
   ]
  },
  {
   "cell_type": "markdown",
   "id": "4218c1cb",
   "metadata": {},
   "source": [
    "ans :"
   ]
  },
  {
   "cell_type": "code",
   "execution_count": 25,
   "id": "40f408c1",
   "metadata": {},
   "outputs": [],
   "source": [
    "def convert_to_hex(string):\n",
    "    hexa = []\n",
    "    for i in string:\n",
    "        hexa.append(hex(ord(i))[2:])\n",
    "    return \" \".join(hexa)"
   ]
  },
  {
   "cell_type": "code",
   "execution_count": 26,
   "id": "b1789bf3",
   "metadata": {},
   "outputs": [
    {
     "data": {
      "text/plain": [
       "'68 65 6c 6c 6f 20 77 6f 72 6c 64'"
      ]
     },
     "execution_count": 26,
     "metadata": {},
     "output_type": "execute_result"
    }
   ],
   "source": [
    "convert_to_hex(\"hello world\") "
   ]
  },
  {
   "cell_type": "code",
   "execution_count": 27,
   "id": "ce4d9cef",
   "metadata": {},
   "outputs": [
    {
     "data": {
      "text/plain": [
       "'42 69 67 20 42 6f 69'"
      ]
     },
     "execution_count": 27,
     "metadata": {},
     "output_type": "execute_result"
    }
   ],
   "source": [
    "convert_to_hex(\"Big Boi\")"
   ]
  },
  {
   "cell_type": "code",
   "execution_count": 28,
   "id": "3256aed1",
   "metadata": {},
   "outputs": [
    {
     "data": {
      "text/plain": [
       "'4d 61 72 74 79 20 50 6f 70 70 69 6e 73 6f 6e'"
      ]
     },
     "execution_count": 28,
     "metadata": {},
     "output_type": "execute_result"
    }
   ],
   "source": [
    "convert_to_hex(\"Marty Poppinson\") "
   ]
  },
  {
   "cell_type": "markdown",
   "id": "a22f109c",
   "metadata": {},
   "source": [
    "Q 3. Someone has attempted to censor my strings by replacing every vowel\n",
    "with a *, l*k* th*s. Luckily, I&#39;ve been able to find the vowels that were\n",
    "removed.\n",
    "- Given a censored string and a string of the censored vowels, return the\n",
    "original uncensored string.\n",
    "- Example\n",
    "- uncensor(&quot;Wh*r* d*d my v*w*ls g*?&quot;, &quot;eeioeo&quot;) ➞ &quot;Where did my vowels go?&quot;\n",
    "- uncensor(&quot;abcd&quot;, &quot;&quot;) ➞ &quot;abcd&quot;\n",
    "- uncensor(&quot;*PP*RC*S*&quot;, &quot;UEAE&quot;) ➞ &quot;UPPERCASE&quot;"
   ]
  },
  {
   "cell_type": "markdown",
   "id": "25c45f33",
   "metadata": {},
   "source": [
    "ans :"
   ]
  },
  {
   "cell_type": "code",
   "execution_count": 29,
   "id": "6f86e8fd",
   "metadata": {},
   "outputs": [],
   "source": [
    "def uncensor(string,vowels):\n",
    "    l = []\n",
    "    l1 = []\n",
    "    l2 = []\n",
    "    for i in string :\n",
    "        l.append(i)\n",
    "    for i in vowels:\n",
    "        l1.append(i)\n",
    "    n = 0\n",
    "    if vowels == \"\":\n",
    "        return string\n",
    "    else:\n",
    "        while n <len(vowels):\n",
    "            if \"*\" in l:\n",
    "                for i in l:\n",
    "                    if i ==\"*\":\n",
    "                        i = l1[n]\n",
    "                        n = n+1\n",
    "                    l2.append(i)\n",
    "        return \"\".join(l2) "
   ]
  },
  {
   "cell_type": "code",
   "execution_count": 30,
   "id": "e6545f3a",
   "metadata": {},
   "outputs": [
    {
     "data": {
      "text/plain": [
       "'Where did my vowels go?'"
      ]
     },
     "execution_count": 30,
     "metadata": {},
     "output_type": "execute_result"
    }
   ],
   "source": [
    "uncensor(\"Wh*r* d*d my v*w*ls g*?\",\"eeioeo\")"
   ]
  },
  {
   "cell_type": "code",
   "execution_count": 31,
   "id": "39e09d76",
   "metadata": {},
   "outputs": [
    {
     "data": {
      "text/plain": [
       "'abcd'"
      ]
     },
     "execution_count": 31,
     "metadata": {},
     "output_type": "execute_result"
    }
   ],
   "source": [
    "uncensor(\"abcd\",\"\")"
   ]
  },
  {
   "cell_type": "code",
   "execution_count": 32,
   "id": "6288095a",
   "metadata": {},
   "outputs": [
    {
     "data": {
      "text/plain": [
       "'UPPERCASE'"
      ]
     },
     "execution_count": 32,
     "metadata": {},
     "output_type": "execute_result"
    }
   ],
   "source": [
    "uncensor(\"*PP*RC*S*\",\"UEAE\")"
   ]
  },
  {
   "cell_type": "markdown",
   "id": "aa0a7c87",
   "metadata": {},
   "source": [
    "Q 4. Write a function that takes an IP address and returns the domain name\n",
    "using PTR DNS records.\n",
    "- Example\n",
    "- get_domain(&quot;8.8.8.8&quot;) ➞ &quot;dns.google&quot;\n",
    "- get_domain(&quot;8.8.4.4&quot;) ➞ &quot;dns.google&quot;"
   ]
  },
  {
   "cell_type": "markdown",
   "id": "98affb31",
   "metadata": {},
   "source": [
    "ans :"
   ]
  },
  {
   "cell_type": "code",
   "execution_count": 33,
   "id": "323d5bc5",
   "metadata": {},
   "outputs": [],
   "source": [
    "import socket\n",
    "def get_domain(ip_address):\n",
    "    result=socket.gethostbyaddr(ip_address)\n",
    "    return list(result)[0]"
   ]
  },
  {
   "cell_type": "code",
   "execution_count": 34,
   "id": "2fb2261a",
   "metadata": {},
   "outputs": [
    {
     "data": {
      "text/plain": [
       "'dns.google'"
      ]
     },
     "execution_count": 34,
     "metadata": {},
     "output_type": "execute_result"
    }
   ],
   "source": [
    "get_domain(\"8.8.8.8\")\n"
   ]
  },
  {
   "cell_type": "code",
   "execution_count": 35,
   "id": "39f1f5e0",
   "metadata": {},
   "outputs": [
    {
     "data": {
      "text/plain": [
       "'dns.google'"
      ]
     },
     "execution_count": 35,
     "metadata": {},
     "output_type": "execute_result"
    }
   ],
   "source": [
    "get_domain(\"8.8.4.4\")"
   ]
  },
  {
   "cell_type": "markdown",
   "id": "5ba67524",
   "metadata": {},
   "source": [
    "Q 5. Create a function that takes an integer n and returns the factorial of\n",
    "factorials. See below examples for a better understanding:\n",
    "- Examples\n",
    "- fact_of_fact(4) ➞ 288\n",
    "- 4! * 3! * 2! * 1! = 288\n",
    "- fact_of_fact(5) ➞ 34560\n",
    "- fact_of_fact(6) ➞ 24883200"
   ]
  },
  {
   "cell_type": "markdown",
   "id": "5d729ede",
   "metadata": {},
   "source": [
    "ans :"
   ]
  },
  {
   "cell_type": "code",
   "execution_count": 36,
   "id": "e64a7151",
   "metadata": {},
   "outputs": [],
   "source": [
    "from functools import reduce\n",
    "def fact_of_fact(num):\n",
    "    l = []\n",
    "    for n in range(1,num+1):\n",
    "        res = 1\n",
    "        for i in range(2, n+1):\n",
    "            res *= i\n",
    "        l.append(res)\n",
    "    return reduce(lambda a,b:a*b,l)   "
   ]
  },
  {
   "cell_type": "code",
   "execution_count": 37,
   "id": "921e3ec8",
   "metadata": {},
   "outputs": [
    {
     "data": {
      "text/plain": [
       "288"
      ]
     },
     "execution_count": 37,
     "metadata": {},
     "output_type": "execute_result"
    }
   ],
   "source": [
    "fact_of_fact(4)"
   ]
  },
  {
   "cell_type": "code",
   "execution_count": 38,
   "id": "d4654ca6",
   "metadata": {},
   "outputs": [
    {
     "data": {
      "text/plain": [
       "34560"
      ]
     },
     "execution_count": 38,
     "metadata": {},
     "output_type": "execute_result"
    }
   ],
   "source": [
    "fact_of_fact(5)"
   ]
  },
  {
   "cell_type": "code",
   "execution_count": 39,
   "id": "1a1442b2",
   "metadata": {},
   "outputs": [
    {
     "data": {
      "text/plain": [
       "24883200"
      ]
     },
     "execution_count": 39,
     "metadata": {},
     "output_type": "execute_result"
    }
   ],
   "source": [
    "fact_of_fact(6)"
   ]
  },
  {
   "cell_type": "code",
   "execution_count": null,
   "id": "18282305",
   "metadata": {},
   "outputs": [],
   "source": []
  },
  {
   "cell_type": "code",
   "execution_count": null,
   "id": "1e19f184",
   "metadata": {},
   "outputs": [],
   "source": []
  }
 ],
 "metadata": {
  "kernelspec": {
   "display_name": "Python 3 (ipykernel)",
   "language": "python",
   "name": "python3"
  },
  "language_info": {
   "codemirror_mode": {
    "name": "ipython",
    "version": 3
   },
   "file_extension": ".py",
   "mimetype": "text/x-python",
   "name": "python",
   "nbconvert_exporter": "python",
   "pygments_lexer": "ipython3",
   "version": "3.9.12"
  }
 },
 "nbformat": 4,
 "nbformat_minor": 5
}
