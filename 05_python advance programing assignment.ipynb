{
 "cells": [
  {
   "cell_type": "markdown",
   "id": "13fa8f6e",
   "metadata": {},
   "source": [
    "Q 1. Create a function that takes a number n (integer greater than zero) as an\n",
    "argument, and returns 2 if n is odd and 8 if n is even.\n",
    "- You can only use the following arithmetic operators: addition of numbers +,\n",
    "subtraction of numbers -, multiplication of number *, division of number /, and\n",
    "exponentiation **.\n",
    "- You are not allowed to use any other methods in this challenge (i.e. no if\n",
    "statements, comparison operators, etc).\n",
    "- Examples\n",
    "- f(1) ➞ 2\n",
    "- f(2) ➞ 8\n",
    "- f(3) ➞ 2"
   ]
  },
  {
   "cell_type": "code",
   "execution_count": 1,
   "id": "58a38371",
   "metadata": {},
   "outputs": [],
   "source": [
    "def f(num):\n",
    "    list = [8,2]\n",
    "    return list[num%2]"
   ]
  },
  {
   "cell_type": "code",
   "execution_count": 2,
   "id": "c514d488",
   "metadata": {},
   "outputs": [
    {
     "data": {
      "text/plain": [
       "2"
      ]
     },
     "execution_count": 2,
     "metadata": {},
     "output_type": "execute_result"
    }
   ],
   "source": [
    "f(1)"
   ]
  },
  {
   "cell_type": "code",
   "execution_count": 3,
   "id": "fbb8ae9f",
   "metadata": {},
   "outputs": [
    {
     "data": {
      "text/plain": [
       "8"
      ]
     },
     "execution_count": 3,
     "metadata": {},
     "output_type": "execute_result"
    }
   ],
   "source": [
    "f(2)"
   ]
  },
  {
   "cell_type": "code",
   "execution_count": 4,
   "id": "ca8eba43",
   "metadata": {},
   "outputs": [
    {
     "data": {
      "text/plain": [
       "2"
      ]
     },
     "execution_count": 4,
     "metadata": {},
     "output_type": "execute_result"
    }
   ],
   "source": [
    "f(3)"
   ]
  },
  {
   "cell_type": "markdown",
   "id": "c24c7029",
   "metadata": {},
   "source": [
    "Q 2. Create a function that returns the majority vote in a list. A majority vote is\n",
    "an element that occurs &gt; N/2 times in a list (where N is the length of the list).\n",
    "- Examples\n",
    "- majority_vote([&quot;A&quot;, &quot;A&quot;, &quot;B&quot;]) ➞ &quot;A&quot;\n",
    "- majority_vote([&quot;A&quot;, &quot;A&quot;, &quot;A&quot;, &quot;B&quot;, &quot;C&quot;, &quot;A&quot;]) ➞ &quot;A&quot;\n",
    "- majority_vote([&quot;A&quot;, &quot;B&quot;, &quot;B&quot;, &quot;A&quot;, &quot;C&quot;, &quot;C&quot;]) ➞ None"
   ]
  },
  {
   "cell_type": "markdown",
   "id": "d2f250c2",
   "metadata": {},
   "source": [
    "ans:"
   ]
  },
  {
   "cell_type": "code",
   "execution_count": 5,
   "id": "d80acc5c",
   "metadata": {},
   "outputs": [],
   "source": [
    "def majority_vote(list) :\n",
    "    dict = {}\n",
    "    for i in list:\n",
    "        dict[i]=list.count(i)\n",
    "    for i,j in dict.items():\n",
    "        if j >=len(list)/2:\n",
    "            return i \n",
    "        else :\n",
    "            return \"None\"\n",
    "    \n",
    "    "
   ]
  },
  {
   "cell_type": "code",
   "execution_count": 6,
   "id": "4578e628",
   "metadata": {},
   "outputs": [
    {
     "data": {
      "text/plain": [
       "'A'"
      ]
     },
     "execution_count": 6,
     "metadata": {},
     "output_type": "execute_result"
    }
   ],
   "source": [
    "majority_vote([\"A\", \"A\", \"B\"])"
   ]
  },
  {
   "cell_type": "code",
   "execution_count": 7,
   "id": "84b39152",
   "metadata": {},
   "outputs": [
    {
     "data": {
      "text/plain": [
       "'A'"
      ]
     },
     "execution_count": 7,
     "metadata": {},
     "output_type": "execute_result"
    }
   ],
   "source": [
    "majority_vote([\"A\", \"A\", \"A\", \"B\", \"C\", \"A\"]) "
   ]
  },
  {
   "cell_type": "code",
   "execution_count": 8,
   "id": "a899df8b",
   "metadata": {},
   "outputs": [
    {
     "data": {
      "text/plain": [
       "'None'"
      ]
     },
     "execution_count": 8,
     "metadata": {},
     "output_type": "execute_result"
    }
   ],
   "source": [
    "majority_vote([\"A\", \"B\", \"B\", \"A\", \"C\", \"C\"]) "
   ]
  },
  {
   "cell_type": "markdown",
   "id": "3534baae",
   "metadata": {},
   "source": [
    "Q 3. Create a function that takes a string txt and censors any word from a given\n",
    "list lst. The text removed must be replaced by the given character char.\n",
    "- Examples\n",
    "- censor_string(&quot;Today is a Wednesday!&quot;, [&quot;Today&quot;, &quot;a&quot;], &quot;-&quot;) ➞ &quot;----- is -\n",
    "Wednesday!&quot;\n",
    "- censor_string(&quot;The cow jumped over the moon.&quot;, [&quot;cow&quot;, &quot;over&quot;], &quot;*&quot;), &quot;The ***\n",
    "jumped **** the moon.&quot;)\n",
    "- censor_string(&quot;Why did the chicken cross the road?&quot;, [&quot;Did&quot;, &quot;chicken&quot;,\n",
    "&quot;road&quot;], &quot;*&quot;) ➞ &quot;Why *** the ******* cross the ****?&quot;"
   ]
  },
  {
   "cell_type": "markdown",
   "id": "da6926bb",
   "metadata": {},
   "source": [
    "ans :"
   ]
  },
  {
   "cell_type": "code",
   "execution_count": 9,
   "id": "15a01e41",
   "metadata": {},
   "outputs": [],
   "source": [
    "def censor_string(string,list_w,char):\n",
    "    string = string.split()\n",
    "    l1 = []\n",
    "    n = 0\n",
    "    for i in string:\n",
    "        if i in list_w:\n",
    "            i = char*len(i)\n",
    "        l1.append(i)\n",
    "    return \" \".join(l1)    \n",
    "      "
   ]
  },
  {
   "cell_type": "code",
   "execution_count": 10,
   "id": "0963d584",
   "metadata": {},
   "outputs": [
    {
     "data": {
      "text/plain": [
       "'----- is - Wednesday!'"
      ]
     },
     "execution_count": 10,
     "metadata": {},
     "output_type": "execute_result"
    }
   ],
   "source": [
    "censor_string(\"Today is a Wednesday!\", [\"Today\", \"a\"], \"-\") "
   ]
  },
  {
   "cell_type": "code",
   "execution_count": 11,
   "id": "968068dc",
   "metadata": {},
   "outputs": [
    {
     "data": {
      "text/plain": [
       "'The *** jumped **** the moon.'"
      ]
     },
     "execution_count": 11,
     "metadata": {},
     "output_type": "execute_result"
    }
   ],
   "source": [
    "censor_string(\"The cow jumped over the moon.\", [\"cow\", \"over\"], \"*\")"
   ]
  },
  {
   "cell_type": "code",
   "execution_count": 12,
   "id": "bac706a7",
   "metadata": {},
   "outputs": [
    {
     "data": {
      "text/plain": [
       "'Why *** the ******* cross the **** ?'"
      ]
     },
     "execution_count": 12,
     "metadata": {},
     "output_type": "execute_result"
    }
   ],
   "source": [
    "censor_string(\"Why did the chicken cross the road ?\", [\"did\",\"chicken\",\"road\"], \"*\")"
   ]
  },
  {
   "cell_type": "markdown",
   "id": "20233d93",
   "metadata": {},
   "source": [
    "Q 4. In mathematics a Polydivisible Number (or magic number) is a number in a\n",
    "given number base with digits abcde... that has the following properties:\n",
    "- Its first digit a is not 0.\n",
    "- The number formed by its first two digits ab is a multiple of 2.\n",
    "- The number formed by its first three digits abc is a multiple of 3.\n",
    "- The number formed by its first four digits abcd is a multiple of 4.\n",
    "- Create a function which takes an integer n and returns True if the given\n",
    "number is a Polydivisible Number and False otherwise.\n",
    "- Examples\n",
    "- is_polydivisible(1232) ➞ True\n",
    "- 1 / 1 = 1\n",
    "- 12 / 2 = 6\n",
    "- 123 / 3 = 41\n",
    "- 1232 / 4 = 308\n",
    "- is_polydivisible(123220 ) ➞ False\n",
    "- 1 / 1 = 1\n",
    "- 12 / 2 = 6\n",
    "- 123 / 3 = 41\n",
    "- 1232 / 4 = 308\n",
    "- 12322 / 5 = 2464.4 # Not a Whole Number\n",
    "- 123220 /6 = 220536.333... # Not a Whole Number"
   ]
  },
  {
   "cell_type": "markdown",
   "id": "6092437f",
   "metadata": {},
   "source": [
    "ans :"
   ]
  },
  {
   "cell_type": "code",
   "execution_count": 15,
   "id": "c50f09c8",
   "metadata": {},
   "outputs": [],
   "source": [
    "def is_polydivisible(num) :\n",
    "    l = []\n",
    "    while num>0:\n",
    "        if num%len(str(num)) == 0:\n",
    "            l.append(num)\n",
    "            num = num//10\n",
    "            return True\n",
    "        else :\n",
    "            return False\n",
    "\n",
    "    "
   ]
  },
  {
   "cell_type": "code",
   "execution_count": 16,
   "id": "ef5cc44c",
   "metadata": {},
   "outputs": [
    {
     "data": {
      "text/plain": [
       "True"
      ]
     },
     "execution_count": 16,
     "metadata": {},
     "output_type": "execute_result"
    }
   ],
   "source": [
    "is_polydivisible(1232) "
   ]
  },
  {
   "cell_type": "code",
   "execution_count": 17,
   "id": "b2ceb112",
   "metadata": {},
   "outputs": [
    {
     "data": {
      "text/plain": [
       "False"
      ]
     },
     "execution_count": 17,
     "metadata": {},
     "output_type": "execute_result"
    }
   ],
   "source": [
    "is_polydivisible(123220 )"
   ]
  },
  {
   "cell_type": "markdown",
   "id": "90d03b54",
   "metadata": {},
   "source": [
    "Q 5. Create a function that takes a list of numbers and returns the sum of all\n",
    "prime numbers in the list.\n",
    "- Examples\n",
    "- sum_primes([1, 2, 3, 4, 5, 6, 7, 8, 9, 10]) ➞ 17\n",
    "- sum_primes([2, 3, 4, 11, 20, 50, 71]) ➞ 87\n",
    "- sum_primes([]) ➞ None"
   ]
  },
  {
   "cell_type": "markdown",
   "id": "059305d2",
   "metadata": {},
   "source": [
    "ans :"
   ]
  },
  {
   "cell_type": "code",
   "execution_count": 18,
   "id": "fef86788",
   "metadata": {},
   "outputs": [],
   "source": [
    "def sum_primes(list):\n",
    "    l = []\n",
    "    for num in list:\n",
    "        if num > 1:\n",
    "            for i in range(2, int(num/2)+1):\n",
    "                if (num % i) == 0:\n",
    "                    break\n",
    "            else:\n",
    "                l.append(num)\n",
    "    return sum(l)            "
   ]
  },
  {
   "cell_type": "code",
   "execution_count": 19,
   "id": "a69954c1",
   "metadata": {},
   "outputs": [
    {
     "data": {
      "text/plain": [
       "17"
      ]
     },
     "execution_count": 19,
     "metadata": {},
     "output_type": "execute_result"
    }
   ],
   "source": [
    "sum_primes([1, 2, 3, 4, 5, 6, 7, 8, 9, 10])"
   ]
  },
  {
   "cell_type": "code",
   "execution_count": 20,
   "id": "2065bd90",
   "metadata": {},
   "outputs": [
    {
     "data": {
      "text/plain": [
       "87"
      ]
     },
     "execution_count": 20,
     "metadata": {},
     "output_type": "execute_result"
    }
   ],
   "source": [
    "sum_primes([2, 3, 4, 11, 20, 50, 71]) "
   ]
  },
  {
   "cell_type": "code",
   "execution_count": 21,
   "id": "f366ef75",
   "metadata": {},
   "outputs": [
    {
     "data": {
      "text/plain": [
       "0"
      ]
     },
     "execution_count": 21,
     "metadata": {},
     "output_type": "execute_result"
    }
   ],
   "source": [
    "sum_primes([])"
   ]
  },
  {
   "cell_type": "code",
   "execution_count": null,
   "id": "b63d7caa",
   "metadata": {},
   "outputs": [],
   "source": []
  }
 ],
 "metadata": {
  "kernelspec": {
   "display_name": "Python 3 (ipykernel)",
   "language": "python",
   "name": "python3"
  },
  "language_info": {
   "codemirror_mode": {
    "name": "ipython",
    "version": 3
   },
   "file_extension": ".py",
   "mimetype": "text/x-python",
   "name": "python",
   "nbconvert_exporter": "python",
   "pygments_lexer": "ipython3",
   "version": "3.9.12"
  }
 },
 "nbformat": 4,
 "nbformat_minor": 5
}
