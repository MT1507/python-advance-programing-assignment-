{
 "cells": [
  {
   "cell_type": "markdown",
   "id": "7349a01f",
   "metadata": {},
   "source": [
    "Q 1. Write a function that counts how many concentric layers a rug.\n",
    "- Examples\n",
    "- count_layers([\n",
    "&quot;AAAA&quot;,\n",
    "&quot;ABBA&quot;,\n",
    "&quot;AAAA&quot;\n",
    "]) ➞ 2\n",
    "- count_layers([\n",
    "&quot;AAAAAAAAA&quot;,\n",
    "&quot;ABBBBBBBA&quot;,\n",
    "&quot;ABBAAABBA&quot;,\n",
    "&quot;ABBBBBBBA&quot;,\n",
    "&quot;AAAAAAAAA&quot;\n",
    "]) ➞ 3\n",
    "- count_layers([\n",
    "&quot;AAAAAAAAAAA&quot;,\n",
    "&quot;AABBBBBBBAA&quot;,\n",
    "&quot;AABCCCCCBAA&quot;,\n",
    "&quot;AABCAAACBAA&quot;,\n",
    "&quot;AABCADACBAA&quot;,\n",
    "&quot;AABCAAACBAA&quot;,\n",
    "&quot;AABCCCCCBAA&quot;,\n",
    "&quot;AABBBBBBBAA&quot;,\n",
    "&quot;AAAAAAAAAAA&quot;\n",
    "]) ➞ 5"
   ]
  },
  {
   "cell_type": "markdown",
   "id": "a5ad0dd6",
   "metadata": {},
   "source": [
    "ans :"
   ]
  },
  {
   "cell_type": "code",
   "execution_count": 1,
   "id": "009513a9",
   "metadata": {},
   "outputs": [],
   "source": [
    "def count_layers(list):\n",
    "    return (len(list)//2)+1"
   ]
  },
  {
   "cell_type": "code",
   "execution_count": 2,
   "id": "cf650b29",
   "metadata": {},
   "outputs": [
    {
     "data": {
      "text/plain": [
       "2"
      ]
     },
     "execution_count": 2,
     "metadata": {},
     "output_type": "execute_result"
    }
   ],
   "source": [
    "count_layers([ \"AAAA\", \"ABBA\", \"AAAA\" ])"
   ]
  },
  {
   "cell_type": "code",
   "execution_count": 3,
   "id": "97ad3fe7",
   "metadata": {},
   "outputs": [
    {
     "data": {
      "text/plain": [
       "3"
      ]
     },
     "execution_count": 3,
     "metadata": {},
     "output_type": "execute_result"
    }
   ],
   "source": [
    "count_layers([ \"AAAAAAAAA\", \"ABBBBBBBA\", \"ABBAAABBA\", \"ABBBBBBBA\", \"AAAAAAAAA\" ])"
   ]
  },
  {
   "cell_type": "code",
   "execution_count": 4,
   "id": "f8caf27a",
   "metadata": {},
   "outputs": [
    {
     "data": {
      "text/plain": [
       "5"
      ]
     },
     "execution_count": 4,
     "metadata": {},
     "output_type": "execute_result"
    }
   ],
   "source": [
    "count_layers([ \"AAAAAAAAAAA\", \"AABBBBBBBAA\", \"AABCCCCCBAA\", \"AABCAAACBAA\", \"AABCADACBAA\", \"AABCAAACBAA\", \"AABCCCCCBAA\", \"AABBBBBBBAA\", \"AAAAAAAAAAA\" ])"
   ]
  },
  {
   "cell_type": "markdown",
   "id": "564cb9bb",
   "metadata": {},
   "source": [
    "Q 2. There are many different styles of music and many albums exhibit multiple\n",
    "styles. Create a function that takes a list of musical styles from albums and\n",
    "returns how many styles are unique.\n",
    "- Examples\n",
    "- unique_styles([\n",
    "&quot;Dub,Dancehall&quot;,\n",
    "&quot;Industrial,Heavy Metal&quot;,\n",
    "&quot;Techno,Dubstep&quot;,\n",
    "&quot;Synth-pop,Euro-Disco&quot;,\n",
    "&quot;Industrial,Techno,Minimal&quot;\n",
    "]) ➞ 9\n",
    "- unique_styles([\n",
    "&quot;Soul&quot;,\n",
    "&quot;House,Folk&quot;,\n",
    "&quot;Trance,Downtempo,Big Beat,House&quot;,\n",
    "&quot;Deep House&quot;,\n",
    "&quot;Soul&quot;\n",
    "]) ➞ 7"
   ]
  },
  {
   "cell_type": "markdown",
   "id": "e6a39f17",
   "metadata": {},
   "source": [
    "ans :"
   ]
  },
  {
   "cell_type": "code",
   "execution_count": 5,
   "id": "e0446047",
   "metadata": {},
   "outputs": [],
   "source": [
    "def unique_styles(list):\n",
    "    l1 = []\n",
    "    for i in list:\n",
    "        for j in i.split(\",\"):\n",
    "            l1.append(j)\n",
    "    return len(set(l1))\n",
    "    "
   ]
  },
  {
   "cell_type": "code",
   "execution_count": 6,
   "id": "ea4b501e",
   "metadata": {},
   "outputs": [
    {
     "data": {
      "text/plain": [
       "9"
      ]
     },
     "execution_count": 6,
     "metadata": {},
     "output_type": "execute_result"
    }
   ],
   "source": [
    "unique_styles([ \"Dub,Dancehall\", \"Industrial,Heavy Metal\", \"Techno,Dubstep\", \"Synth-pop,Euro-Disco\", \"Industrial,Techno,Minimal\" ])"
   ]
  },
  {
   "cell_type": "code",
   "execution_count": 7,
   "id": "8e5b8278",
   "metadata": {},
   "outputs": [
    {
     "data": {
      "text/plain": [
       "7"
      ]
     },
     "execution_count": 7,
     "metadata": {},
     "output_type": "execute_result"
    }
   ],
   "source": [
    "unique_styles([ \"Soul\", \"House,Folk\", \"Trance,Downtempo,Big Beat,House\", \"Deep House\", \"Soul\" ]) "
   ]
  },
  {
   "cell_type": "markdown",
   "id": "df194634",
   "metadata": {},
   "source": [
    "Q 3. Create a function that finds a target number in a list of prime numbers.\n",
    "Implement a binary search algorithm in your function. The target number will\n",
    "be from 2 through 97. If the target is prime then return &quot;yes&quot; else return &quot;no&quot;.\n",
    "- Examples\n",
    "- primes = [2, 3, 5, 7, 11, 13, 17, 19, 23, 29, 31, 37, 41, 43, 47, 53, 59, 61, 67,\n",
    "71, 73, 79, 83, 89, 97]\n",
    "\n",
    "- is_prime(primes, 3) ➞ &quot;yes&quot;\n",
    "- is_prime(primes, 4) ➞ &quot;no&quot;\n",
    "- is_prime(primes, 67) ➞ &quot;yes&quot;\n",
    "- is_prime(primes, 36) ➞ &quot;no&quot;"
   ]
  },
  {
   "cell_type": "markdown",
   "id": "be688dec",
   "metadata": {},
   "source": [
    "ans :"
   ]
  },
  {
   "cell_type": "code",
   "execution_count": 8,
   "id": "a8b93584",
   "metadata": {},
   "outputs": [],
   "source": [
    "primes = [2, 3, 5, 7, 11, 13, 17, 19, 23, 29, 31, 37, 41, 43, 47, 53, 59, 61, 67, 71, 73, 79, 83, 89, 97]\n",
    "def is_prime(primes,num):\n",
    "    lo = 0\n",
    "    hi = len(primes)-1\n",
    "    \n",
    "    while hi - lo >= 1:\n",
    "        mid = (hi + lo)//2\n",
    "        if primes[mid] < num:\n",
    "            lo = mid+1\n",
    "        else :\n",
    "            hi = mid\n",
    "    if primes[lo] == num or primes[hi] == hi:\n",
    "        print(\"yes\")\n",
    "    else:\n",
    "        print(\"No\")"
   ]
  },
  {
   "cell_type": "code",
   "execution_count": 9,
   "id": "81f13eb6",
   "metadata": {},
   "outputs": [
    {
     "name": "stdout",
     "output_type": "stream",
     "text": [
      "yes\n"
     ]
    }
   ],
   "source": [
    "is_prime(primes, 3)"
   ]
  },
  {
   "cell_type": "code",
   "execution_count": 10,
   "id": "adc65c93",
   "metadata": {},
   "outputs": [
    {
     "name": "stdout",
     "output_type": "stream",
     "text": [
      "No\n"
     ]
    }
   ],
   "source": [
    "is_prime(primes, 4)"
   ]
  },
  {
   "cell_type": "code",
   "execution_count": 11,
   "id": "533e0c7f",
   "metadata": {},
   "outputs": [
    {
     "name": "stdout",
     "output_type": "stream",
     "text": [
      "yes\n"
     ]
    }
   ],
   "source": [
    "is_prime(primes, 67)"
   ]
  },
  {
   "cell_type": "code",
   "execution_count": 12,
   "id": "f70c485a",
   "metadata": {},
   "outputs": [
    {
     "name": "stdout",
     "output_type": "stream",
     "text": [
      "No\n"
     ]
    }
   ],
   "source": [
    "is_prime(primes, 36)"
   ]
  },
  {
   "cell_type": "markdown",
   "id": "ec643507",
   "metadata": {},
   "source": [
    "Q 4. Create a function that takes in n, a, b and returns the number of positive\n",
    "values raised to the nth power that lie in the range [a, b], inclusive.\n",
    "- Examples\n",
    "- power_ranger(2, 49, 65) ➞ 2\n",
    "-  2 squares (n^2) lie between 49 and 65, 49 (7^2) and 64 (8^2)\n",
    "- power_ranger(3, 1, 27) ➞ 3\n",
    "-  3 cubes (n^3) lie between 1 and 27, 1 (1^3), 8 (2^3) and 27 (3^3)\n",
    "- power_ranger(10, 1, 5) ➞ 1\n",
    "-  1 value raised to the 10th power lies between 1 and 5, 1 (1^10)\n",
    "- power_ranger(5, 31, 33) ➞ 1\n",
    "- power_ranger(4, 250, 1300) ➞ 3"
   ]
  },
  {
   "cell_type": "markdown",
   "id": "0340d609",
   "metadata": {},
   "source": [
    "ans :"
   ]
  },
  {
   "cell_type": "code",
   "execution_count": 13,
   "id": "1145fd27",
   "metadata": {},
   "outputs": [],
   "source": [
    "def power_ranger(n,a,b):\n",
    "    l = []\n",
    "    for i in range(a,b+1):\n",
    "        if len(str(i**(1/n))) == 3:\n",
    "            l.append(i)\n",
    "    return len(l)        \n",
    "            "
   ]
  },
  {
   "cell_type": "code",
   "execution_count": 14,
   "id": "52048dae",
   "metadata": {},
   "outputs": [
    {
     "data": {
      "text/plain": [
       "2"
      ]
     },
     "execution_count": 14,
     "metadata": {},
     "output_type": "execute_result"
    }
   ],
   "source": [
    "power_ranger(2, 49, 65)"
   ]
  },
  {
   "cell_type": "code",
   "execution_count": 15,
   "id": "29a7d6e3",
   "metadata": {},
   "outputs": [
    {
     "data": {
      "text/plain": [
       "3"
      ]
     },
     "execution_count": 15,
     "metadata": {},
     "output_type": "execute_result"
    }
   ],
   "source": [
    "power_ranger(3, 1, 27) "
   ]
  },
  {
   "cell_type": "code",
   "execution_count": 16,
   "id": "e2f43bd4",
   "metadata": {},
   "outputs": [
    {
     "data": {
      "text/plain": [
       "1"
      ]
     },
     "execution_count": 16,
     "metadata": {},
     "output_type": "execute_result"
    }
   ],
   "source": [
    "power_ranger(10, 1, 5)"
   ]
  },
  {
   "cell_type": "code",
   "execution_count": 17,
   "id": "a5fee2e6",
   "metadata": {},
   "outputs": [
    {
     "data": {
      "text/plain": [
       "1"
      ]
     },
     "execution_count": 17,
     "metadata": {},
     "output_type": "execute_result"
    }
   ],
   "source": [
    "power_ranger(5, 31, 33)"
   ]
  },
  {
   "cell_type": "code",
   "execution_count": 18,
   "id": "3b05e3ba",
   "metadata": {},
   "outputs": [
    {
     "data": {
      "text/plain": [
       "3"
      ]
     },
     "execution_count": 18,
     "metadata": {},
     "output_type": "execute_result"
    }
   ],
   "source": [
    "power_ranger(4, 250, 1300)"
   ]
  },
  {
   "cell_type": "markdown",
   "id": "3677f621",
   "metadata": {},
   "source": [
    "Q 5. Given a number, return the difference between the maximum and minimum\n",
    "numbers that can be formed when the digits are rearranged.\n",
    "- Examples\n",
    "- rearranged_difference(972882) ➞ 760833\n",
    "- 988722 - 227889 = 760833\n",
    "- rearranged_difference(3320707) ➞ 7709823\n",
    "- 7733200 - 23377 = 7709823\n",
    "- rearranged_difference(90010) ➞ 90981\n",
    "- 91000 - 19 = 90981"
   ]
  },
  {
   "cell_type": "markdown",
   "id": "d543a6a6",
   "metadata": {},
   "source": [
    "ans :"
   ]
  },
  {
   "cell_type": "code",
   "execution_count": 19,
   "id": "e07164bb",
   "metadata": {},
   "outputs": [],
   "source": [
    "def rearranged_difference(num):\n",
    "    return  int(\"\".join(sorted(str(num),reverse = True))) - int(\"\".join(sorted(str(num)))) "
   ]
  },
  {
   "cell_type": "code",
   "execution_count": 20,
   "id": "3e6f17bd",
   "metadata": {},
   "outputs": [
    {
     "data": {
      "text/plain": [
       "760833"
      ]
     },
     "execution_count": 20,
     "metadata": {},
     "output_type": "execute_result"
    }
   ],
   "source": [
    "rearranged_difference(972882) "
   ]
  },
  {
   "cell_type": "code",
   "execution_count": 21,
   "id": "6beb9c29",
   "metadata": {},
   "outputs": [
    {
     "data": {
      "text/plain": [
       "7709823"
      ]
     },
     "execution_count": 21,
     "metadata": {},
     "output_type": "execute_result"
    }
   ],
   "source": [
    "rearranged_difference(3320707)"
   ]
  },
  {
   "cell_type": "code",
   "execution_count": 22,
   "id": "68cae206",
   "metadata": {},
   "outputs": [
    {
     "data": {
      "text/plain": [
       "90981"
      ]
     },
     "execution_count": 22,
     "metadata": {},
     "output_type": "execute_result"
    }
   ],
   "source": [
    "rearranged_difference(90010)"
   ]
  },
  {
   "cell_type": "code",
   "execution_count": null,
   "id": "96c27e4f",
   "metadata": {},
   "outputs": [],
   "source": []
  },
  {
   "cell_type": "code",
   "execution_count": null,
   "id": "5fcb6a54",
   "metadata": {},
   "outputs": [],
   "source": []
  }
 ],
 "metadata": {
  "kernelspec": {
   "display_name": "Python 3 (ipykernel)",
   "language": "python",
   "name": "python3"
  },
  "language_info": {
   "codemirror_mode": {
    "name": "ipython",
    "version": 3
   },
   "file_extension": ".py",
   "mimetype": "text/x-python",
   "name": "python",
   "nbconvert_exporter": "python",
   "pygments_lexer": "ipython3",
   "version": "3.9.12"
  }
 },
 "nbformat": 4,
 "nbformat_minor": 5
}
