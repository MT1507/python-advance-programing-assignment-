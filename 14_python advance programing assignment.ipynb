{
 "cells": [
  {
   "cell_type": "markdown",
   "id": "2d27ea3c",
   "metadata": {},
   "source": [
    "Q 1. Given a list of numbers, create a function that removes 25% from every\n",
    "number in the list except the smallest number, and adds the total amount\n",
    "removed to the smallest number.\n",
    "- Examples\n",
    "- show_the_love([4, 1, 4]) ➞ [3, 3, 3]\n",
    "- show_the_love([16, 10, 8]) ➞ [12, 7.5, 14.5]\n",
    "- show_the_love([2, 100]) ➞ [27, 75]"
   ]
  },
  {
   "cell_type": "markdown",
   "id": "be0e9b70",
   "metadata": {},
   "source": [
    "ans :"
   ]
  },
  {
   "cell_type": "code",
   "execution_count": 1,
   "id": "a431ebf8",
   "metadata": {},
   "outputs": [],
   "source": [
    "def show_the_love(list_):\n",
    "    sum_ = 0\n",
    "    for i in range(len(list_)):\n",
    "        if i is not min(list_):\n",
    "            sum_ += list_[i]/4\n",
    "            list_[i] = list_[i] - list_[i]/4\n",
    "    list_[list_.index(min(list_))] = sum_ + min(list_)      \n",
    "    return list_\n",
    "            \n",
    "            "
   ]
  },
  {
   "cell_type": "code",
   "execution_count": 2,
   "id": "a2ae3b2b",
   "metadata": {},
   "outputs": [
    {
     "data": {
      "text/plain": [
       "[3.0, 3.0, 3.0]"
      ]
     },
     "execution_count": 2,
     "metadata": {},
     "output_type": "execute_result"
    }
   ],
   "source": [
    "show_the_love([4, 1, 4])"
   ]
  },
  {
   "cell_type": "code",
   "execution_count": 3,
   "id": "29f22fa4",
   "metadata": {},
   "outputs": [
    {
     "data": {
      "text/plain": [
       "[12.0, 7.5, 14.5]"
      ]
     },
     "execution_count": 3,
     "metadata": {},
     "output_type": "execute_result"
    }
   ],
   "source": [
    "show_the_love([16, 10, 8]) "
   ]
  },
  {
   "cell_type": "code",
   "execution_count": 4,
   "id": "8c28292c",
   "metadata": {},
   "outputs": [
    {
     "data": {
      "text/plain": [
       "[27.0, 75.0]"
      ]
     },
     "execution_count": 4,
     "metadata": {},
     "output_type": "execute_result"
    }
   ],
   "source": [
    "show_the_love([2, 100])"
   ]
  },
  {
   "cell_type": "markdown",
   "id": "90bb4421",
   "metadata": {},
   "source": [
    "Q 2. Create a function that takes in two words as input and returns a list of three\n",
    "elements, in the following order:\n",
    "- 1.Shared letters between two words.\n",
    "- 2.Letters unique to word 1.\n",
    "- 3.Letters unique to word 2.\n",
    "- Each element should have unique letters, and have each letter be\n",
    "alphabetically sorted.\n",
    "- Examples\n",
    "- letters(&quot;sharp&quot;, &quot;soap&quot;) ➞ [&quot;aps&quot;, &quot;hr&quot;, &quot;o&quot;]\n",
    "- letters(&quot;board&quot;, &quot;bored&quot;) ➞ [&quot;bdor&quot;, &quot;a&quot;, &quot;e&quot;]\n",
    "- letters(&quot;happiness&quot;, &quot;envelope&quot;) ➞ [&quot;enp&quot;, &quot;ahis&quot;, &quot;lov&quot;]\n",
    "\n",
    "- letters(&quot;kerfuffle&quot;, &quot;fluffy&quot;) ➞ [&quot;flu&quot;, &quot;ekr&quot;, &quot;y&quot;]\n",
    "- Even with multiple matching letters (e.g. 3 f&#39;s), there should\n",
    "- only exist a single &quot;f&quot; in your first element.\n",
    "- letters(&quot;match&quot;, &quot;ham&quot;) ➞ [&quot;ahm&quot;, &quot;ct&quot;, &quot;&quot;]\n",
    "- &quot;ham&quot; does not contain any letters that are not found already\n",
    " in &quot;match&quot;."
   ]
  },
  {
   "cell_type": "markdown",
   "id": "0c0823ac",
   "metadata": {},
   "source": [
    "ans :"
   ]
  },
  {
   "cell_type": "code",
   "execution_count": 5,
   "id": "e953beda",
   "metadata": {},
   "outputs": [],
   "source": [
    "def letters(str1,str2):\n",
    "    common = []\n",
    "    uniq1 = []\n",
    "    uniq2 = []\n",
    "    for i in str1:\n",
    "        if i in str2:\n",
    "            common.append(i)\n",
    "        elif i not in str2:\n",
    "            uniq1.append(i)\n",
    "    for i in str2:\n",
    "        if i not in str1:\n",
    "            uniq2.append(i)\n",
    "    return [\"\".join(sorted(set(common))),\"\".join(sorted(set(uniq1))),\n",
    "            \"\".join(sorted(set(uniq2)))]        "
   ]
  },
  {
   "cell_type": "code",
   "execution_count": 6,
   "id": "f5484c83",
   "metadata": {},
   "outputs": [
    {
     "data": {
      "text/plain": [
       "['aps', 'hr', 'o']"
      ]
     },
     "execution_count": 6,
     "metadata": {},
     "output_type": "execute_result"
    }
   ],
   "source": [
    "letters(\"sharp\", \"soap\")"
   ]
  },
  {
   "cell_type": "code",
   "execution_count": 7,
   "id": "c108aafa",
   "metadata": {},
   "outputs": [
    {
     "data": {
      "text/plain": [
       "['bdor', 'a', 'e']"
      ]
     },
     "execution_count": 7,
     "metadata": {},
     "output_type": "execute_result"
    }
   ],
   "source": [
    "letters(\"board\", \"bored\")"
   ]
  },
  {
   "cell_type": "code",
   "execution_count": 8,
   "id": "b530a14d",
   "metadata": {},
   "outputs": [
    {
     "data": {
      "text/plain": [
       "['enp', 'ahis', 'lov']"
      ]
     },
     "execution_count": 8,
     "metadata": {},
     "output_type": "execute_result"
    }
   ],
   "source": [
    "letters(\"happiness\", \"envelope\")"
   ]
  },
  {
   "cell_type": "code",
   "execution_count": 9,
   "id": "afcc6460",
   "metadata": {},
   "outputs": [
    {
     "data": {
      "text/plain": [
       "['flu', 'ekr', 'y']"
      ]
     },
     "execution_count": 9,
     "metadata": {},
     "output_type": "execute_result"
    }
   ],
   "source": [
    "letters(\"kerfuffle\", \"fluffy\")"
   ]
  },
  {
   "cell_type": "code",
   "execution_count": 10,
   "id": "203be7dd",
   "metadata": {},
   "outputs": [
    {
     "data": {
      "text/plain": [
       "['ahm', 'ct', '']"
      ]
     },
     "execution_count": 10,
     "metadata": {},
     "output_type": "execute_result"
    }
   ],
   "source": [
    "letters(\"match\", \"ham\")"
   ]
  },
  {
   "cell_type": "markdown",
   "id": "fb5acc37",
   "metadata": {},
   "source": [
    "Q 3. Write a function that pairs the first number in an array with the last, the\n",
    "second number with the second to last, etc.\n",
    "- Examples\n",
    "- pairs([1, 2, 3, 4, 5, 6, 7]) ➞ [[1, 7], [2, 6], [3, 5], [4, 4]]\n",
    "\n",
    "- pairs([1, 2, 3, 4, 5, 6]) ➞ [[1, 6], [2, 5], [3, 4]]\n",
    "- pairs([5, 9, 8, 1, 2]) ➞ [[5, 2], [9, 1], [8, 8]]\n",
    "- pairs([]) ➞ []"
   ]
  },
  {
   "cell_type": "markdown",
   "id": "c02b4021",
   "metadata": {},
   "source": [
    "ans:"
   ]
  },
  {
   "cell_type": "code",
   "execution_count": 11,
   "id": "12deae16",
   "metadata": {},
   "outputs": [],
   "source": [
    "def pairs(list_):\n",
    "    output = []\n",
    "    while True:\n",
    "        if len(list_)>0:\n",
    "            if len(list_) ==1:\n",
    "                output.append([list_[0],list_.pop(0)])\n",
    "            else:\n",
    "                output.append([list_.pop(0),list_.pop(-1)])\n",
    "        else:\n",
    "            break\n",
    "    return output\n"
   ]
  },
  {
   "cell_type": "code",
   "execution_count": 12,
   "id": "09061c63",
   "metadata": {},
   "outputs": [
    {
     "data": {
      "text/plain": [
       "[[1, 7], [2, 6], [3, 5], [4, 4]]"
      ]
     },
     "execution_count": 12,
     "metadata": {},
     "output_type": "execute_result"
    }
   ],
   "source": [
    "pairs([1, 2, 3, 4, 5, 6, 7]) "
   ]
  },
  {
   "cell_type": "code",
   "execution_count": 13,
   "id": "f6a9cb6d",
   "metadata": {},
   "outputs": [
    {
     "data": {
      "text/plain": [
       "[[1, 6], [2, 5], [3, 4]]"
      ]
     },
     "execution_count": 13,
     "metadata": {},
     "output_type": "execute_result"
    }
   ],
   "source": [
    "pairs([1, 2, 3, 4, 5, 6])"
   ]
  },
  {
   "cell_type": "code",
   "execution_count": 14,
   "id": "f5440a7c",
   "metadata": {},
   "outputs": [
    {
     "data": {
      "text/plain": [
       "[[5, 2], [9, 1], [8, 8]]"
      ]
     },
     "execution_count": 14,
     "metadata": {},
     "output_type": "execute_result"
    }
   ],
   "source": [
    "pairs([5, 9, 8, 1, 2])"
   ]
  },
  {
   "cell_type": "markdown",
   "id": "a9a6a27c",
   "metadata": {},
   "source": [
    "Q 4. Write a function that adds two numbers. The catch, however, is that the\n",
    "numbers will be strings.\n",
    "- Examples\n",
    "- add_str_nums(&quot;4&quot;, &quot;5&quot;) ➞ &quot;9&quot;\n",
    "- add_str_nums(&quot;abcdefg&quot;, &quot;3&quot;) ➞ &quot;-1&quot;\n",
    "- add_str_nums(&quot;1&quot;, &quot;&quot;) ➞ &quot;1&quot;\n",
    "- add_str_nums(&quot;1874682736267235927359283579235789257&quot;,\n",
    "&quot;32652983572985729&quot;) ➞ &quot;1874682736267235927391936562808774986&quot;"
   ]
  },
  {
   "cell_type": "markdown",
   "id": "f5220f3e",
   "metadata": {},
   "source": [
    "ans :"
   ]
  },
  {
   "cell_type": "code",
   "execution_count": 15,
   "id": "09ba83c1",
   "metadata": {},
   "outputs": [],
   "source": [
    "def add_str_nums(str1,str2):\n",
    "    str1 = str1 if len(str1) > 0 else \"0\"\n",
    "    str2 = str2 if len(str2) > 0 else \"0\"\n",
    "    if str1.isdigit() ==False or str2.isdigit() ==False :\n",
    "        return -1\n",
    "    else :\n",
    "        return str(int(str1) + int(str2))"
   ]
  },
  {
   "cell_type": "code",
   "execution_count": 16,
   "id": "960b2326",
   "metadata": {},
   "outputs": [
    {
     "data": {
      "text/plain": [
       "'9'"
      ]
     },
     "execution_count": 16,
     "metadata": {},
     "output_type": "execute_result"
    }
   ],
   "source": [
    "add_str_nums(\"4\", \"5\") "
   ]
  },
  {
   "cell_type": "code",
   "execution_count": 17,
   "id": "6a8367f2",
   "metadata": {},
   "outputs": [
    {
     "data": {
      "text/plain": [
       "-1"
      ]
     },
     "execution_count": 17,
     "metadata": {},
     "output_type": "execute_result"
    }
   ],
   "source": [
    "add_str_nums(\"abcdefg\", \"3\") "
   ]
  },
  {
   "cell_type": "code",
   "execution_count": 18,
   "id": "d97e35f2",
   "metadata": {},
   "outputs": [
    {
     "data": {
      "text/plain": [
       "'1'"
      ]
     },
     "execution_count": 18,
     "metadata": {},
     "output_type": "execute_result"
    }
   ],
   "source": [
    "add_str_nums(\"1\", \"\") "
   ]
  },
  {
   "cell_type": "code",
   "execution_count": 19,
   "id": "e1b563be",
   "metadata": {},
   "outputs": [
    {
     "data": {
      "text/plain": [
       "'1874682736267235927391936562808774986'"
      ]
     },
     "execution_count": 19,
     "metadata": {},
     "output_type": "execute_result"
    }
   ],
   "source": [
    "add_str_nums(\"1874682736267235927359283579235789257\", \"32652983572985729\") "
   ]
  },
  {
   "cell_type": "markdown",
   "id": "bf5350b4",
   "metadata": {},
   "source": [
    "Q 5. lPaeesh le pemu mnxit ehess rtnisg! Oh, sorry, that was supposed to say:\n",
    "Please help me unmix these strings!\n",
    "- Somehow my strings have all become mixed up; every pair of characters has\n",
    "been swapped. Help me undo this so I can understand my strings again.\n",
    "- Examples\n",
    "- unmix(&quot;123456&quot;) ➞ &quot;214365&quot;\n",
    "- unmix(&quot;hTsii s aimex dpus rtni.g&quot;) ➞ &quot;This is a mixed up string.&quot;\n",
    "- unmix(&quot;badce&quot;) ➞ &quot;abcde&quot;"
   ]
  },
  {
   "cell_type": "code",
   "execution_count": 20,
   "id": "d55e96e7",
   "metadata": {},
   "outputs": [],
   "source": [
    "def unmix(in_string):\n",
    "    output = ''\n",
    "    for ele in range(0,len(in_string)-1,2):\n",
    "        output += in_string[ele+1]+in_string[ele]\n",
    "    if (len(in_string)%2 != 0 ):\n",
    "        output += in_string[-1]       \n",
    "    print(f'unmix({in_string}) : {output}')"
   ]
  },
  {
   "cell_type": "code",
   "execution_count": 21,
   "id": "c9bc4934",
   "metadata": {},
   "outputs": [
    {
     "name": "stdout",
     "output_type": "stream",
     "text": [
      "unmix(123456) : 214365\n"
     ]
    }
   ],
   "source": [
    "unmix(\"123456\") "
   ]
  },
  {
   "cell_type": "code",
   "execution_count": 22,
   "id": "47ef5acf",
   "metadata": {},
   "outputs": [
    {
     "name": "stdout",
     "output_type": "stream",
     "text": [
      "unmix(hTsii  s aimex dpus rtni.g) : This is a mixed up string.\n"
     ]
    }
   ],
   "source": [
    "unmix(\"hTsii  s aimex dpus rtni.g\")\n"
   ]
  },
  {
   "cell_type": "code",
   "execution_count": 23,
   "id": "85f2465d",
   "metadata": {},
   "outputs": [
    {
     "name": "stdout",
     "output_type": "stream",
     "text": [
      "unmix(badcfe) : abcdef\n"
     ]
    }
   ],
   "source": [
    "unmix(\"badcfe\")"
   ]
  },
  {
   "cell_type": "code",
   "execution_count": null,
   "id": "1f144f64",
   "metadata": {},
   "outputs": [],
   "source": []
  },
  {
   "cell_type": "code",
   "execution_count": null,
   "id": "2fde0343",
   "metadata": {},
   "outputs": [],
   "source": []
  }
 ],
 "metadata": {
  "kernelspec": {
   "display_name": "Python 3 (ipykernel)",
   "language": "python",
   "name": "python3"
  },
  "language_info": {
   "codemirror_mode": {
    "name": "ipython",
    "version": 3
   },
   "file_extension": ".py",
   "mimetype": "text/x-python",
   "name": "python",
   "nbconvert_exporter": "python",
   "pygments_lexer": "ipython3",
   "version": "3.9.12"
  }
 },
 "nbformat": 4,
 "nbformat_minor": 5
}
