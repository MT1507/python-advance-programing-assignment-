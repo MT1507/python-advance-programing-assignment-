{
 "cells": [
  {
   "cell_type": "markdown",
   "id": "9ec2b7fd",
   "metadata": {},
   "source": [
    "Q 1. Create a function that transposes a 2D matrix.\n",
    "- Examples\n",
    "- transpose_matrix([\n",
    "[1, 1, 1],\n",
    "[2, 2, 2],\n",
    "[3, 3, 3]\n",
    "]) ➞ [\n",
    "[1, 2, 3],\n",
    "[1, 2, 3],\n",
    "[1, 2, 3]\n",
    "]\n",
    "- transpose_matrix([\n",
    "[5, 5],\n",
    "[6, 7],\n",
    "[9, 1]\n",
    "]) ➞ [\n",
    "[5, 6, 9],\n",
    "[5, 7, 1]\n",
    "]"
   ]
  },
  {
   "cell_type": "markdown",
   "id": "c7708d9b",
   "metadata": {},
   "source": [
    "ans :"
   ]
  },
  {
   "cell_type": "code",
   "execution_count": 1,
   "id": "d3dddecd",
   "metadata": {},
   "outputs": [],
   "source": [
    "def transpose_matrix(arr):\n",
    "    l= []\n",
    "    for i in range(len(arr[0])):\n",
    "        temp = []\n",
    "        for j in arr:\n",
    "            temp.append(j[i])\n",
    "        l.append(temp)\n",
    "    return l    \n"
   ]
  },
  {
   "cell_type": "code",
   "execution_count": 2,
   "id": "b56efaf6",
   "metadata": {},
   "outputs": [
    {
     "data": {
      "text/plain": [
       "[[1, 2, 3], [1, 2, 3], [1, 2, 3]]"
      ]
     },
     "execution_count": 2,
     "metadata": {},
     "output_type": "execute_result"
    }
   ],
   "source": [
    "transpose_matrix([ [1, 1, 1], [2, 2, 2], [3, 3, 3] ])"
   ]
  },
  {
   "cell_type": "code",
   "execution_count": 3,
   "id": "6e14e476",
   "metadata": {},
   "outputs": [
    {
     "data": {
      "text/plain": [
       "[[5, 6, 9], [5, 7, 1]]"
      ]
     },
     "execution_count": 3,
     "metadata": {},
     "output_type": "execute_result"
    }
   ],
   "source": [
    "transpose_matrix([ [5, 5], [6, 7], [9, 1] ])"
   ]
  },
  {
   "cell_type": "markdown",
   "id": "3a915b45",
   "metadata": {},
   "source": [
    "Q 2. Create a function that determines whether a string is a valid hex code.\n",
    "- A hex code must begin with a pound key # and is exactly 6 characters in\n",
    "length. Each character must be a digit from 0-9 or an alphabetic character\n",
    "from A-F. All alphabetic characters may be uppercase or lowercase.\n",
    "- Examples\n",
    "- is_valid_hex_code(&quot;#CD5C5C&quot;) ➞ True\n",
    "- is_valid_hex_code(&quot;#EAECEE&quot;) ➞ True\n",
    "- is_valid_hex_code(&quot;#eaecee&quot;) ➞ True\n",
    "- is_valid_hex_code(&quot;#CD5C58C&quot;) ➞ False\n",
    "-  Length exceeds 6\n",
    "- is_valid_hex_code(&quot;#CD5C5Z&quot;) ➞ False\n",
    "-  Not all alphabetic characters in A-F\n",
    "- is_valid_hex_code(&quot;#CD5C&amp;C&quot;) ➞ False\n",
    "-  Contains unacceptable character\n",
    "- is_valid_hex_code(&quot;CD5C5C&quot;) ➞ False\n",
    "- Missing #"
   ]
  },
  {
   "cell_type": "markdown",
   "id": "247ce5f4",
   "metadata": {},
   "source": [
    "ans :"
   ]
  },
  {
   "cell_type": "code",
   "execution_count": 4,
   "id": "ee2d604b",
   "metadata": {},
   "outputs": [],
   "source": [
    "def is_valid_hex_code(string):\n",
    "    is_hexa = True\n",
    "    for i in string:\n",
    "        if i.lower() not in \"#abcdef0123456789\" or len(string) !=7:\n",
    "            is_hexa = False\n",
    "    print(is_hexa)        "
   ]
  },
  {
   "cell_type": "code",
   "execution_count": 5,
   "id": "c6df170e",
   "metadata": {},
   "outputs": [
    {
     "name": "stdout",
     "output_type": "stream",
     "text": [
      "True\n"
     ]
    }
   ],
   "source": [
    "is_valid_hex_code(\"#CD5C5C\")"
   ]
  },
  {
   "cell_type": "code",
   "execution_count": 6,
   "id": "7c4cc4da",
   "metadata": {},
   "outputs": [
    {
     "name": "stdout",
     "output_type": "stream",
     "text": [
      "True\n"
     ]
    }
   ],
   "source": [
    "is_valid_hex_code(\"#EAECEE\")"
   ]
  },
  {
   "cell_type": "code",
   "execution_count": 7,
   "id": "f7e6cbdb",
   "metadata": {},
   "outputs": [
    {
     "name": "stdout",
     "output_type": "stream",
     "text": [
      "True\n"
     ]
    }
   ],
   "source": [
    "is_valid_hex_code(\"#eaecee\") "
   ]
  },
  {
   "cell_type": "code",
   "execution_count": 8,
   "id": "90778993",
   "metadata": {},
   "outputs": [
    {
     "name": "stdout",
     "output_type": "stream",
     "text": [
      "False\n"
     ]
    }
   ],
   "source": [
    "is_valid_hex_code(\"#CD5C58C\")"
   ]
  },
  {
   "cell_type": "code",
   "execution_count": 9,
   "id": "e15aa168",
   "metadata": {},
   "outputs": [
    {
     "name": "stdout",
     "output_type": "stream",
     "text": [
      "False\n"
     ]
    }
   ],
   "source": [
    "is_valid_hex_code(\"#CD5C5Z\") "
   ]
  },
  {
   "cell_type": "code",
   "execution_count": 10,
   "id": "3996caff",
   "metadata": {},
   "outputs": [
    {
     "name": "stdout",
     "output_type": "stream",
     "text": [
      "False\n"
     ]
    }
   ],
   "source": [
    "is_valid_hex_code(\"#CD5C&C\") "
   ]
  },
  {
   "cell_type": "code",
   "execution_count": 11,
   "id": "af23791f",
   "metadata": {},
   "outputs": [
    {
     "name": "stdout",
     "output_type": "stream",
     "text": [
      "False\n"
     ]
    }
   ],
   "source": [
    "is_valid_hex_code(\"CD5C5C\")"
   ]
  },
  {
   "cell_type": "markdown",
   "id": "a0cb2216",
   "metadata": {},
   "source": [
    "Q 3. Given a list of math equations (given as strings), return the percentage of\n",
    "correct answers as a string. Round to the nearest whole number.\n",
    "- Examples\n",
    "- mark_maths([&quot;2+2=4&quot;, &quot;3+2=5&quot;, &quot;10-3=3&quot;, &quot;5+5=10&quot;]) ➞ &quot;75%&quot;\n",
    "- mark_maths([&quot;1-2=-2&quot;]), &quot;0%&quot;\n",
    "- mark_maths([&quot;2+3=5&quot;, &quot;4+4=9&quot;, &quot;3-1=2&quot;]) ➞ &quot;67%&quot;"
   ]
  },
  {
   "cell_type": "markdown",
   "id": "ed33390d",
   "metadata": {},
   "source": [
    "ans :"
   ]
  },
  {
   "cell_type": "code",
   "execution_count": 20,
   "id": "b989c7df",
   "metadata": {},
   "outputs": [],
   "source": [
    "import numpy as np \n",
    "\n",
    "def mark_maths(list_):\n",
    "    correct_ = []\n",
    "    for i in list_:\n",
    "        if eval(i.split(\"=\")[0]) == eval(i.split(\"=\")[1]):\n",
    "            correct_.append(eval(i.split(\"=\")[0]))\n",
    "    return str(int(np.round((len(correct_)/len(list_))*100,0))) + \"%\""
   ]
  },
  {
   "cell_type": "code",
   "execution_count": 21,
   "id": "7db02492",
   "metadata": {},
   "outputs": [
    {
     "data": {
      "text/plain": [
       "'75%'"
      ]
     },
     "execution_count": 21,
     "metadata": {},
     "output_type": "execute_result"
    }
   ],
   "source": [
    "mark_maths([\"2+2=4\", \"3+2=5\", \"10-3=3\", \"5+5=10\"]) "
   ]
  },
  {
   "cell_type": "code",
   "execution_count": 22,
   "id": "44a33758",
   "metadata": {},
   "outputs": [
    {
     "data": {
      "text/plain": [
       "'0%'"
      ]
     },
     "execution_count": 22,
     "metadata": {},
     "output_type": "execute_result"
    }
   ],
   "source": [
    "mark_maths([\"1-2=-2\"])"
   ]
  },
  {
   "cell_type": "code",
   "execution_count": 23,
   "id": "3de96548",
   "metadata": {},
   "outputs": [
    {
     "data": {
      "text/plain": [
       "'67%'"
      ]
     },
     "execution_count": 23,
     "metadata": {},
     "output_type": "execute_result"
    }
   ],
   "source": [
    "mark_maths([\"2+3=5\", \"4+4=9\", \"3-1=2\"])"
   ]
  },
  {
   "cell_type": "markdown",
   "id": "8bed9394",
   "metadata": {},
   "source": [
    "Q 4. There are two players, Alice and Bob, each with a 3-by-3 grid. A referee\n",
    "tells Alice to fill out one particular row in the grid (say the second row) by\n",
    "putting either a 1 or a 0 in each box, such that the sum of the numbers in that\n",
    "row is odd. The referee tells Bob to fill out one column in the grid (say the first\n",
    "column) by putting either a 1 or a 0 in each box, such that the sum of the\n",
    "numbers in that column is even.\n",
    "- Alice and Bob win the game if Alice’s numbers give an odd sum, Bob’s give\n",
    "an even sum, and (most important) they’ve each written down the same\n",
    "number in the one square where their row and column intersect.\n",
    "- Examples\n",
    "- magic_square_game([2, &quot;100&quot;], [1, &quot;101&quot;]) ➞ False\n",
    "- magic_square_game([2, &quot;001&quot;], [1, &quot;101&quot;]) ➞ True\n",
    "- magic_square_game([3, &quot;111&quot;], [2, &quot;011&quot;]) ➞ True\n",
    "- magic_square_game([1, &quot;010&quot;], [3, &quot;101&quot;]) ➞ False\n",
    "- Two lists, Alice [row, &quot;her choice&quot;], Bob [column, &quot;his choice&quot;]"
   ]
  },
  {
   "cell_type": "markdown",
   "id": "b70ab0a0",
   "metadata": {},
   "source": [
    "ans : "
   ]
  },
  {
   "cell_type": "code",
   "execution_count": 24,
   "id": "54b69c3d",
   "metadata": {},
   "outputs": [],
   "source": [
    "def magic_square_game(list_1,list_2):\n",
    "    output = False\n",
    "    if list_1[1][list_2[0]-1] == list_2[1][list_1[0]-1]:\n",
    "        output = True\n",
    "    return output    "
   ]
  },
  {
   "cell_type": "code",
   "execution_count": 25,
   "id": "670f4594",
   "metadata": {},
   "outputs": [
    {
     "data": {
      "text/plain": [
       "False"
      ]
     },
     "execution_count": 25,
     "metadata": {},
     "output_type": "execute_result"
    }
   ],
   "source": [
    "magic_square_game([2, \"100\"], [1, \"101\"]) "
   ]
  },
  {
   "cell_type": "code",
   "execution_count": 26,
   "id": "f1c38b8a",
   "metadata": {},
   "outputs": [
    {
     "data": {
      "text/plain": [
       "True"
      ]
     },
     "execution_count": 26,
     "metadata": {},
     "output_type": "execute_result"
    }
   ],
   "source": [
    "magic_square_game([2, \"001\"], [1, \"101\"]) "
   ]
  },
  {
   "cell_type": "code",
   "execution_count": 27,
   "id": "fbbd5369",
   "metadata": {},
   "outputs": [
    {
     "data": {
      "text/plain": [
       "True"
      ]
     },
     "execution_count": 27,
     "metadata": {},
     "output_type": "execute_result"
    }
   ],
   "source": [
    "magic_square_game([3, \"111\"], [2, \"011\"])"
   ]
  },
  {
   "cell_type": "code",
   "execution_count": 28,
   "id": "1aedf12d",
   "metadata": {},
   "outputs": [
    {
     "data": {
      "text/plain": [
       "False"
      ]
     },
     "execution_count": 28,
     "metadata": {},
     "output_type": "execute_result"
    }
   ],
   "source": [
    "magic_square_game([1, \"010\"], [3, \"101\"])"
   ]
  },
  {
   "cell_type": "markdown",
   "id": "fd8a7cf2",
   "metadata": {},
   "source": [
    "Q 5. From point A, an object is moving towards point B at constant velocity va (in km/hr). From point B, another object is moving towards point A at constant velocity vb (in km/hr). Knowing this and the distance between point A and B (in km), write a function that returns how much time passes until both objects meet.\n",
    "- Format the output like this: \"2h 23min 34s\"\n",
    "\n",
    "- Examples:\n",
    "- lets_meet(100, 10, 30) ➞ \"2h 30min 0s\"\n",
    "- lets_meet(280, 70, 80) ➞ \"1h 52min 0s\"\n",
    "- lets_meet(90, 75, 65) ➞ \"0h 38min 34s\""
   ]
  },
  {
   "cell_type": "markdown",
   "id": "7a6ca471",
   "metadata": {},
   "source": [
    "ans:"
   ]
  },
  {
   "cell_type": "code",
   "execution_count": 30,
   "id": "2714e9e1",
   "metadata": {},
   "outputs": [],
   "source": [
    "import math\n",
    "\n",
    "def lets_meet(dist,va,vb):\n",
    "    time = dist/(va+vb)\n",
    "    hours = math.floor(time)\n",
    "    minuts = math.floor((time -hours)*60)\n",
    "    seconds = math.floor((((time-hours)*60)-minuts)*60)\n",
    "    print(f\"{hours}h {minuts}min {seconds}s\")\n",
    "    "
   ]
  },
  {
   "cell_type": "code",
   "execution_count": 31,
   "id": "fc70fcdb",
   "metadata": {},
   "outputs": [
    {
     "name": "stdout",
     "output_type": "stream",
     "text": [
      "2h 30min 0s\n"
     ]
    }
   ],
   "source": [
    "lets_meet(100, 10, 30)"
   ]
  },
  {
   "cell_type": "code",
   "execution_count": 32,
   "id": "5c711eff",
   "metadata": {},
   "outputs": [
    {
     "name": "stdout",
     "output_type": "stream",
     "text": [
      "1h 52min 0s\n"
     ]
    }
   ],
   "source": [
    "lets_meet(280, 70, 80)"
   ]
  },
  {
   "cell_type": "code",
   "execution_count": 33,
   "id": "73e4bc2c",
   "metadata": {},
   "outputs": [
    {
     "name": "stdout",
     "output_type": "stream",
     "text": [
      "0h 38min 34s\n"
     ]
    }
   ],
   "source": [
    "lets_meet(90, 75, 65)"
   ]
  },
  {
   "cell_type": "code",
   "execution_count": null,
   "id": "1b2ee990",
   "metadata": {},
   "outputs": [],
   "source": []
  }
 ],
 "metadata": {
  "kernelspec": {
   "display_name": "Python 3 (ipykernel)",
   "language": "python",
   "name": "python3"
  },
  "language_info": {
   "codemirror_mode": {
    "name": "ipython",
    "version": 3
   },
   "file_extension": ".py",
   "mimetype": "text/x-python",
   "name": "python",
   "nbconvert_exporter": "python",
   "pygments_lexer": "ipython3",
   "version": "3.9.12"
  }
 },
 "nbformat": 4,
 "nbformat_minor": 5
}
