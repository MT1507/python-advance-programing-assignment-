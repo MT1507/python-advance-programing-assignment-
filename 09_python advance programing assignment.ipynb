{
 "cells": [
  {
   "cell_type": "markdown",
   "id": "839db585",
   "metadata": {},
   "source": [
    "Q 1. YouTube offers different playback speed options for users. This allows\n",
    "users to increase or decrease the speed of the video content. Given the\n",
    "actual duration and playback speed of the video, calculate the playback\n",
    "duration of the video.\n",
    "- Examples\n",
    "- playback_duration(&quot;00:30:00&quot;, 2) ➞ &quot;00:15:00&quot;\n",
    "- playback_duration(&quot;01:20:00&quot;, 1.5) ➞ &quot;00:53:20&quot;\n",
    "- playback_duration(&quot;51:20:09&quot;, 0.5) ➞ &quot;102:40:18&quot;"
   ]
  },
  {
   "cell_type": "markdown",
   "id": "573c5749",
   "metadata": {},
   "source": [
    "ans:"
   ]
  },
  {
   "cell_type": "code",
   "execution_count": 1,
   "id": "2bae02eb",
   "metadata": {},
   "outputs": [],
   "source": [
    "def playback_duration(time,speed):\n",
    "    time = time.split(\":\")\n",
    "    time = [int(i) for i in time ]\n",
    "    seconds = (time[0]*3600) +(time[1]*60)+time[2]\n",
    "    seconds = seconds//speed\n",
    "    minutes = seconds//60\n",
    "    seconds = seconds%60\n",
    "    hours = minutes//60\n",
    "    minutes = minutes%60\n",
    "    l1 = [str(int(hours)),str(int(minutes)),str(int(seconds))]    \n",
    "    if l1[0] ==\"0\":\n",
    "        l1[0] =\"00\"\n",
    "    if l1[1] == \"0\":\n",
    "        l1[1] = \"00\"\n",
    "    if l1[2] == \"0\":\n",
    "        l1[2] = \"00\"    \n",
    "    return \":\".join(l1)     \n",
    "    \n",
    "    "
   ]
  },
  {
   "cell_type": "code",
   "execution_count": 2,
   "id": "ec5beddc",
   "metadata": {},
   "outputs": [
    {
     "data": {
      "text/plain": [
       "'00:15:00'"
      ]
     },
     "execution_count": 2,
     "metadata": {},
     "output_type": "execute_result"
    }
   ],
   "source": [
    "playback_duration(\"00:30:00\", 2)"
   ]
  },
  {
   "cell_type": "code",
   "execution_count": 3,
   "id": "ef7ef0f3",
   "metadata": {},
   "outputs": [
    {
     "data": {
      "text/plain": [
       "'00:53:20'"
      ]
     },
     "execution_count": 3,
     "metadata": {},
     "output_type": "execute_result"
    }
   ],
   "source": [
    "playback_duration(\"01:20:00\", 1.5)"
   ]
  },
  {
   "cell_type": "code",
   "execution_count": 4,
   "id": "9655cbae",
   "metadata": {},
   "outputs": [
    {
     "data": {
      "text/plain": [
       "'102:40:18'"
      ]
     },
     "execution_count": 4,
     "metadata": {},
     "output_type": "execute_result"
    }
   ],
   "source": [
    "playback_duration(\"51:20:09\", 0.5)"
   ]
  },
  {
   "cell_type": "markdown",
   "id": "9572e049",
   "metadata": {},
   "source": [
    "Q 2. We needs your help to construct a building which will be a pile of n cubes.\n",
    "The cube at the bottom will have a volume of n^3, the cube above will have\n",
    "volume of (n-1)^3 and so on until the top which will have a volume of 1^3.\n",
    "- Given the total volume m of the building, can you find the number of cubes n\n",
    "required for the building?\n",
    "- In other words, you have to return an integer n such that:\n",
    "- n^3 + (n-1)^3 + ... + 1^3 == m\n",
    "- Return None if there is no such number.\n",
    "- Examples\n",
    "- pile_of_cubes(1071225) ➞ 45\n",
    "- pile_of_cubes(4183059834009) ➞ 2022\n",
    "- pile_of_cubes(16) ➞ None"
   ]
  },
  {
   "cell_type": "markdown",
   "id": "d14d50eb",
   "metadata": {},
   "source": [
    "ans:"
   ]
  },
  {
   "cell_type": "code",
   "execution_count": 5,
   "id": "aadffcd1",
   "metadata": {},
   "outputs": [],
   "source": [
    "def pile_of_cubes(vol):\n",
    "    output = 1\n",
    "    check = 0\n",
    "    while check <=vol:\n",
    "        check += output ** 3\n",
    "        if check == vol: \n",
    "            return output\n",
    "        output += 1\n",
    "    return \"None\""
   ]
  },
  {
   "cell_type": "code",
   "execution_count": 6,
   "id": "4828a863",
   "metadata": {},
   "outputs": [
    {
     "data": {
      "text/plain": [
       "45"
      ]
     },
     "execution_count": 6,
     "metadata": {},
     "output_type": "execute_result"
    }
   ],
   "source": [
    "pile_of_cubes(1071225)    "
   ]
  },
  {
   "cell_type": "code",
   "execution_count": 7,
   "id": "1d2c2fdc",
   "metadata": {},
   "outputs": [
    {
     "data": {
      "text/plain": [
       "2022"
      ]
     },
     "execution_count": 7,
     "metadata": {},
     "output_type": "execute_result"
    }
   ],
   "source": [
    "pile_of_cubes(4183059834009)"
   ]
  },
  {
   "cell_type": "code",
   "execution_count": 8,
   "id": "ec7d40c4",
   "metadata": {},
   "outputs": [
    {
     "data": {
      "text/plain": [
       "'None'"
      ]
     },
     "execution_count": 8,
     "metadata": {},
     "output_type": "execute_result"
    }
   ],
   "source": [
    "pile_of_cubes(16)"
   ]
  },
  {
   "cell_type": "markdown",
   "id": "057aa67a",
   "metadata": {},
   "source": [
    "Q 3. A fulcrum of a list is an integer such that all elements to the left of it and all\n",
    "elements to the right of it sum to the same value. Write a function that finds\n",
    "the fulcrum of a list.\n",
    "- To illustrate:\n",
    "- find_fulcrum([3, 1, 5, 2, 4, 6, -1]) ➞ 2\n",
    "- // Since [3, 1, 5] and [4, 6, -1] both sum to 9\n",
    "- Examples\n",
    "- find_fulcrum([1, 2, 4, 9, 10, -10, -9, 3]) ➞ 4\n",
    "- find_fulcrum([9, 1, 9]) ➞ 1\n",
    "- find_fulcrum([7, -1, 0, -1, 1, 1, 2, 3]) ➞ 0\n",
    "- find_fulcrum([8, 8, 8, 8]) ➞ -1"
   ]
  },
  {
   "cell_type": "markdown",
   "id": "47c62690",
   "metadata": {},
   "source": [
    "ans:"
   ]
  },
  {
   "cell_type": "code",
   "execution_count": 9,
   "id": "acb4c692",
   "metadata": {},
   "outputs": [],
   "source": [
    "def find_fulcrum(arr):\n",
    "    for i in range(1,len(arr)):\n",
    "        leftSum = sum(arr[0:i])\n",
    "        rightSum = sum(arr[i+1:])\n",
    "        if(leftSum == rightSum):\n",
    "            return arr[i]\n",
    "    return -1\n",
    "        "
   ]
  },
  {
   "cell_type": "code",
   "execution_count": 10,
   "id": "15533ca3",
   "metadata": {},
   "outputs": [
    {
     "data": {
      "text/plain": [
       "2"
      ]
     },
     "execution_count": 10,
     "metadata": {},
     "output_type": "execute_result"
    }
   ],
   "source": [
    "find_fulcrum([3, 1, 5, 2, 4, 6, -1]) "
   ]
  },
  {
   "cell_type": "code",
   "execution_count": 11,
   "id": "0e2c0e21",
   "metadata": {},
   "outputs": [
    {
     "data": {
      "text/plain": [
       "4"
      ]
     },
     "execution_count": 11,
     "metadata": {},
     "output_type": "execute_result"
    }
   ],
   "source": [
    "find_fulcrum([1, 2, 4, 9, 10, -10, -9, 3])"
   ]
  },
  {
   "cell_type": "code",
   "execution_count": 12,
   "id": "45306692",
   "metadata": {},
   "outputs": [
    {
     "data": {
      "text/plain": [
       "1"
      ]
     },
     "execution_count": 12,
     "metadata": {},
     "output_type": "execute_result"
    }
   ],
   "source": [
    "find_fulcrum([9, 1, 9]) "
   ]
  },
  {
   "cell_type": "code",
   "execution_count": 13,
   "id": "b283bdcd",
   "metadata": {},
   "outputs": [
    {
     "data": {
      "text/plain": [
       "0"
      ]
     },
     "execution_count": 13,
     "metadata": {},
     "output_type": "execute_result"
    }
   ],
   "source": [
    "find_fulcrum([7, -1, 0, -1, 1, 1, 2, 3]) "
   ]
  },
  {
   "cell_type": "code",
   "execution_count": 14,
   "id": "4a09432e",
   "metadata": {},
   "outputs": [
    {
     "data": {
      "text/plain": [
       "-1"
      ]
     },
     "execution_count": 14,
     "metadata": {},
     "output_type": "execute_result"
    }
   ],
   "source": [
    "find_fulcrum([8, 8, 8, 8]) "
   ]
  },
  {
   "cell_type": "markdown",
   "id": "838dec2c",
   "metadata": {},
   "source": [
    "Q 4. Given a list of integers representing the color of each sock, determine how\n",
    "many pairs of socks with matching colors there are. For example, there are 7\n",
    "socks with colors [1, 2, 1, 2, 1, 3, 2]. There is one pair of color 1 and one of\n",
    "color 2. There are three odd socks left, one of each color. The number of\n",
    "pairs is 2.\n",
    "- Create a function that returns an integer representing the number of matching\n",
    "pairs of socks that are available.\n",
    "- Examples\n",
    "- sock_merchant([10, 20, 20, 10, 10, 30, 50, 10, 20]) ➞ 3\n",
    "- sock_merchant([50, 20, 30, 90, 30, 20, 50, 20, 90]) ➞ 4\n",
    "- sock_merchant([]) ➞ 0"
   ]
  },
  {
   "cell_type": "markdown",
   "id": "c7f54cf6",
   "metadata": {},
   "source": [
    "ans :"
   ]
  },
  {
   "cell_type": "code",
   "execution_count": 15,
   "id": "e74e2a75",
   "metadata": {},
   "outputs": [],
   "source": [
    "from itertools import groupby\n",
    "def sock_merchant(list_):\n",
    "    ans = 0\n",
    "    for val in [len(list(group)) for key, group in groupby(sorted(list_))]:\n",
    "        ans = ans + val//2\n",
    "    return ans "
   ]
  },
  {
   "cell_type": "code",
   "execution_count": 16,
   "id": "8905bf79",
   "metadata": {},
   "outputs": [
    {
     "data": {
      "text/plain": [
       "2"
      ]
     },
     "execution_count": 16,
     "metadata": {},
     "output_type": "execute_result"
    }
   ],
   "source": [
    "sock_merchant([1, 2, 1, 2, 1, 3, 2])"
   ]
  },
  {
   "cell_type": "code",
   "execution_count": 17,
   "id": "7b3f9dd7",
   "metadata": {},
   "outputs": [
    {
     "data": {
      "text/plain": [
       "3"
      ]
     },
     "execution_count": 17,
     "metadata": {},
     "output_type": "execute_result"
    }
   ],
   "source": [
    "sock_merchant([10, 20, 20, 10, 10, 30, 50, 10, 20])"
   ]
  },
  {
   "cell_type": "code",
   "execution_count": 18,
   "id": "72215f17",
   "metadata": {},
   "outputs": [
    {
     "data": {
      "text/plain": [
       "4"
      ]
     },
     "execution_count": 18,
     "metadata": {},
     "output_type": "execute_result"
    }
   ],
   "source": [
    "sock_merchant([50, 20, 30, 90, 30, 20, 50, 20, 90])"
   ]
  },
  {
   "cell_type": "code",
   "execution_count": 19,
   "id": "be5bfaac",
   "metadata": {},
   "outputs": [
    {
     "data": {
      "text/plain": [
       "0"
      ]
     },
     "execution_count": 19,
     "metadata": {},
     "output_type": "execute_result"
    }
   ],
   "source": [
    "sock_merchant([]) "
   ]
  },
  {
   "cell_type": "markdown",
   "id": "5494c2d5",
   "metadata": {},
   "source": [
    "Q 5. Create a function that takes a string containing integers as well as other\n",
    "characters and return the sum of the negative integers only.\n",
    "- Examples\n",
    "- negative_sum(&quot;-12 13%14&amp;-11&quot;) ➞ -23\n",
    "- -12 + -11 = -23\n",
    "- negative_sum(&quot;22 13%14&amp;-11-22 13 12&quot;) ➞ -33\n",
    "- -11 + -22 = -33"
   ]
  },
  {
   "cell_type": "markdown",
   "id": "37e651df",
   "metadata": {},
   "source": [
    "ans :"
   ]
  },
  {
   "cell_type": "code",
   "execution_count": 20,
   "id": "500fbd44",
   "metadata": {},
   "outputs": [],
   "source": [
    "import re\n",
    " \n",
    "def negative_sum(str_):\n",
    "    return sum(list(map(int, re.findall('-\\d+', str_))))"
   ]
  },
  {
   "cell_type": "code",
   "execution_count": 21,
   "id": "f3bc935c",
   "metadata": {},
   "outputs": [
    {
     "data": {
      "text/plain": [
       "-23"
      ]
     },
     "execution_count": 21,
     "metadata": {},
     "output_type": "execute_result"
    }
   ],
   "source": [
    "negative_sum(\"-12 13%14&-11\")"
   ]
  },
  {
   "cell_type": "code",
   "execution_count": 22,
   "id": "9481fb0c",
   "metadata": {},
   "outputs": [
    {
     "data": {
      "text/plain": [
       "-33"
      ]
     },
     "execution_count": 22,
     "metadata": {},
     "output_type": "execute_result"
    }
   ],
   "source": [
    "negative_sum(\"22 13%14&-11-22 13 12\")"
   ]
  },
  {
   "cell_type": "code",
   "execution_count": null,
   "id": "3cc2f467",
   "metadata": {},
   "outputs": [],
   "source": []
  },
  {
   "cell_type": "code",
   "execution_count": null,
   "id": "ca4940b2",
   "metadata": {},
   "outputs": [],
   "source": []
  }
 ],
 "metadata": {
  "kernelspec": {
   "display_name": "Python 3 (ipykernel)",
   "language": "python",
   "name": "python3"
  },
  "language_info": {
   "codemirror_mode": {
    "name": "ipython",
    "version": 3
   },
   "file_extension": ".py",
   "mimetype": "text/x-python",
   "name": "python",
   "nbconvert_exporter": "python",
   "pygments_lexer": "ipython3",
   "version": "3.9.12"
  }
 },
 "nbformat": 4,
 "nbformat_minor": 5
}
