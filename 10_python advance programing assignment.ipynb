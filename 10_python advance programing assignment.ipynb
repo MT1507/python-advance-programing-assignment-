{
 "cells": [
  {
   "cell_type": "markdown",
   "id": "f76a6664",
   "metadata": {},
   "source": [
    "Q 1. Create a function that takes the width, height and character and returns a\n",
    "picture frame as a 2D list.\n",
    "- Examples\n",
    "- get_frame(4, 5, &quot;#&quot;) ➞ \n",
    "[\n",
    "- [&quot;####&quot;],\n",
    "- [&quot;#   #&quot;],\n",
    "- [&quot;#   #&quot;],\n",
    "- [&quot;#   #&quot;],\n",
    "- [&quot;####&quot;]\n",
    "]\n",
    "- Frame is 4 characters wide and 5 characters tall.\n",
    "- get_frame(10, 3, &quot;*&quot;) ➞ \n",
    "[\n",
    "[&quot;**********&quot;],\n",
    " [&quot;* *&quot;],\n",
    " [&quot;**********&quot;]\n",
    "]\n",
    "-  Frame is 10 characters and wide and 3 characters tall.\n",
    "\n",
    "- get_frame(2, 5, &quot;0&quot;) ➞ &quot;invalid&quot;\n",
    "-  Frame&#39;s width is not more than 2."
   ]
  },
  {
   "cell_type": "markdown",
   "id": "ea7bbd83",
   "metadata": {},
   "source": [
    "ans :"
   ]
  },
  {
   "cell_type": "code",
   "execution_count": 1,
   "id": "9a7f9461",
   "metadata": {},
   "outputs": [],
   "source": [
    "def get_frame(width,height,char) :\n",
    "     \n",
    "    if width >2:\n",
    "        for i in range(1, height+1) :\n",
    "            for j in range(1, width+1) :\n",
    "                if (i == 1 or i == height or\n",
    "                    j == 1 or j == width) :\n",
    "                    print(char, end=\" \")           \n",
    "                else :\n",
    "                    print(\" \", end=\" \")           \n",
    "         \n",
    "            print()\n",
    "    else:\n",
    "        print(\"invalid\")"
   ]
  },
  {
   "cell_type": "code",
   "execution_count": 2,
   "id": "bfd4866d",
   "metadata": {},
   "outputs": [
    {
     "name": "stdout",
     "output_type": "stream",
     "text": [
      "# # # # \n",
      "#     # \n",
      "#     # \n",
      "#     # \n",
      "# # # # \n"
     ]
    }
   ],
   "source": [
    "get_frame(4, 5, \"#\") "
   ]
  },
  {
   "cell_type": "code",
   "execution_count": 3,
   "id": "0a64f65a",
   "metadata": {},
   "outputs": [
    {
     "name": "stdout",
     "output_type": "stream",
     "text": [
      "* * * * * * * * * * \n",
      "*                 * \n",
      "* * * * * * * * * * \n"
     ]
    }
   ],
   "source": [
    "get_frame(10, 3, \"*\") "
   ]
  },
  {
   "cell_type": "code",
   "execution_count": 4,
   "id": "077bd695",
   "metadata": {},
   "outputs": [
    {
     "name": "stdout",
     "output_type": "stream",
     "text": [
      "invalid\n"
     ]
    }
   ],
   "source": [
    "get_frame(2, 5, \"0\")"
   ]
  },
  {
   "cell_type": "markdown",
   "id": "96092161",
   "metadata": {},
   "source": [
    "Q 2. Write three functions:\n",
    "- 1. boolean_and\n",
    "- 2. boolean_or\n",
    "- 3. boolean_xor\n",
    "- These functions should evaluate a list of True and False values, starting from\n",
    "the leftmost element and evaluating pairwise.\n",
    "- Examples\n",
    "- boolean_and([True, True, False, True]) ➞ False\n",
    "- [True, True, False, True] =&gt; [True, False, True] =&gt; [False, True] =&gt; False\n",
    "- boolean_or([True, True, False, False]) ➞ True\n",
    "- [True, True, False, True] =&gt; [True, False, False] =&gt; [True, False] =&gt; True\n",
    "- boolean_xor([True, True, False, False]) ➞ False\n",
    "- [True, True, False, False] =&gt; [False, False, False] =&gt; [False, False] =&gt;False"
   ]
  },
  {
   "cell_type": "markdown",
   "id": "46f0a9f3",
   "metadata": {},
   "source": [
    "ans :"
   ]
  },
  {
   "cell_type": "code",
   "execution_count": 5,
   "id": "561fd67a",
   "metadata": {},
   "outputs": [],
   "source": [
    "list_ = [True, True, False, True]"
   ]
  },
  {
   "cell_type": "code",
   "execution_count": 10,
   "id": "557e085d",
   "metadata": {},
   "outputs": [],
   "source": [
    "def boolean_and(list_):\n",
    "    val = list_[0]\n",
    "    index_ = 1\n",
    "    while index_ < len(list_):\n",
    "        val = val and list_[index_]\n",
    "        index_+=1\n",
    "    return val \n",
    "\n",
    "def boolean_or(list_):\n",
    "    val = list_[0]\n",
    "    index_ = 1\n",
    "    while index_ < len(list_):\n",
    "        val = val or list_[index_]\n",
    "        index_+=1\n",
    "    return val \n",
    "\n",
    "def boolean_xor(list_):\n",
    "    val = list_[0]\n",
    "    index_ = 1\n",
    "    while index_ < len(list_):\n",
    "        val = val or list_[index_]\n",
    "        index_+=1\n",
    "    return not(val) \n"
   ]
  },
  {
   "cell_type": "code",
   "execution_count": 11,
   "id": "ddb5229a",
   "metadata": {},
   "outputs": [
    {
     "data": {
      "text/plain": [
       "False"
      ]
     },
     "execution_count": 11,
     "metadata": {},
     "output_type": "execute_result"
    }
   ],
   "source": [
    "boolean_and([True, True, False, True]) "
   ]
  },
  {
   "cell_type": "code",
   "execution_count": 12,
   "id": "d522e1b8",
   "metadata": {},
   "outputs": [
    {
     "data": {
      "text/plain": [
       "True"
      ]
     },
     "execution_count": 12,
     "metadata": {},
     "output_type": "execute_result"
    }
   ],
   "source": [
    "boolean_or([True, True, False, False]) "
   ]
  },
  {
   "cell_type": "code",
   "execution_count": 13,
   "id": "ecda8da9",
   "metadata": {},
   "outputs": [
    {
     "data": {
      "text/plain": [
       "False"
      ]
     },
     "execution_count": 13,
     "metadata": {},
     "output_type": "execute_result"
    }
   ],
   "source": [
    "boolean_xor([True, True, False, False])"
   ]
  },
  {
   "cell_type": "markdown",
   "id": "e904c711",
   "metadata": {},
   "source": [
    "Q 3. Create a function that creates a box based on dimension n.\n",
    "- Examples\n",
    "- make_box(5) ➞ [\n",
    "- &quot;#####&quot;,\n",
    "- &quot;# #&quot;,\n",
    "- &quot;# #&quot;,\n",
    "- &quot;# #&quot;,\n",
    "- &quot;#####&quot;\n",
    "]\n",
    "- make_box(3) ➞ [\n",
    "- &quot;###&quot;,\n",
    "- &quot;# #&quot;,\n",
    "- &quot;###&quot;\n",
    "]\n",
    "- make_box(2) ➞ [\n",
    "- &quot;##&quot;,\n",
    "- &quot;##&quot;\n",
    "]\n",
    "- make_box(1) ➞ [\n",
    "- &quot;#&quot;\n",
    "]"
   ]
  },
  {
   "cell_type": "markdown",
   "id": "043b7159",
   "metadata": {},
   "source": [
    "ans :"
   ]
  },
  {
   "cell_type": "code",
   "execution_count": 14,
   "id": "a5b7c15b",
   "metadata": {},
   "outputs": [],
   "source": [
    "def make_box(num):\n",
    "    for i in range(0,num):\n",
    "        for j in range(0,num):\n",
    "            if (i == 0 or i == num-1 or j ==0 or j == num-1):\n",
    "                print(\"#\",end=\" \")\n",
    "            else :\n",
    "                print(\" \",end=\" \")\n",
    "        print()        "
   ]
  },
  {
   "cell_type": "code",
   "execution_count": 15,
   "id": "72cd7328",
   "metadata": {},
   "outputs": [
    {
     "name": "stdout",
     "output_type": "stream",
     "text": [
      "# # # # # \n",
      "#       # \n",
      "#       # \n",
      "#       # \n",
      "# # # # # \n"
     ]
    }
   ],
   "source": [
    "make_box(5) "
   ]
  },
  {
   "cell_type": "code",
   "execution_count": 16,
   "id": "d0e7e5fb",
   "metadata": {},
   "outputs": [
    {
     "name": "stdout",
     "output_type": "stream",
     "text": [
      "# # # \n",
      "#   # \n",
      "# # # \n"
     ]
    }
   ],
   "source": [
    "make_box(3)"
   ]
  },
  {
   "cell_type": "code",
   "execution_count": 17,
   "id": "283b14f1",
   "metadata": {},
   "outputs": [
    {
     "name": "stdout",
     "output_type": "stream",
     "text": [
      "# # \n",
      "# # \n"
     ]
    }
   ],
   "source": [
    "make_box(2)"
   ]
  },
  {
   "cell_type": "code",
   "execution_count": 18,
   "id": "d8f2cc1f",
   "metadata": {},
   "outputs": [
    {
     "name": "stdout",
     "output_type": "stream",
     "text": [
      "# \n"
     ]
    }
   ],
   "source": [
    "make_box(1)"
   ]
  },
  {
   "cell_type": "markdown",
   "id": "86fd862a",
   "metadata": {},
   "source": [
    "Q 4. Given a common phrase, return False if any individual word in the phrase\n",
    "contains duplicate letters. Return True otherwise.\n",
    "- Examples\n",
    "- no_duplicate_letters(&quot;Fortune favours the bold.&quot;) ➞ True\n",
    "- no_duplicate_letters(&quot;You can lead a horse to water, but you can&#39;t make him\n",
    "drink.&quot;) ➞ True\n",
    "- no_duplicate_letters(&quot;Look before you leap.&quot;) ➞ False\n",
    "-  Duplicate letters in &quot;Look&quot; and &quot;before&quot;.\n",
    "- no_duplicate_letters(&quot;An apple a day keeps the doctor away.&quot;) ➞ False\n",
    "- Duplicate letters in &quot;apple&quot;, &quot;keeps&quot;, &quot;doctor&quot;, and &quot;away&quot;."
   ]
  },
  {
   "cell_type": "markdown",
   "id": "c3259562",
   "metadata": {},
   "source": [
    "ans :"
   ]
  },
  {
   "cell_type": "code",
   "execution_count": 19,
   "id": "d5b9129e",
   "metadata": {},
   "outputs": [],
   "source": [
    "def no_duplicate_letters(string):\n",
    "    string = string.split()\n",
    "    l = []\n",
    "    for i in string:\n",
    "        if len(i) == len(set(i)):\n",
    "            l.append(True)\n",
    "        else :\n",
    "            l.append(False)\n",
    "    if False in l:\n",
    "        print(False)\n",
    "    else:\n",
    "        print(True)\n",
    "            "
   ]
  },
  {
   "cell_type": "code",
   "execution_count": 20,
   "id": "2a87730a",
   "metadata": {},
   "outputs": [
    {
     "name": "stdout",
     "output_type": "stream",
     "text": [
      "True\n"
     ]
    }
   ],
   "source": [
    "no_duplicate_letters(\"Fortune favours the bold.\")"
   ]
  },
  {
   "cell_type": "code",
   "execution_count": 21,
   "id": "6c5bdd57",
   "metadata": {},
   "outputs": [
    {
     "name": "stdout",
     "output_type": "stream",
     "text": [
      "True\n"
     ]
    }
   ],
   "source": [
    "no_duplicate_letters(\"You can lead a horse to water, but you can't make him drink.\")"
   ]
  },
  {
   "cell_type": "code",
   "execution_count": 22,
   "id": "11441c9d",
   "metadata": {},
   "outputs": [
    {
     "name": "stdout",
     "output_type": "stream",
     "text": [
      "False\n"
     ]
    }
   ],
   "source": [
    "no_duplicate_letters(\"Look before you leap.\")"
   ]
  },
  {
   "cell_type": "code",
   "execution_count": 23,
   "id": "38f0195e",
   "metadata": {},
   "outputs": [
    {
     "name": "stdout",
     "output_type": "stream",
     "text": [
      "False\n"
     ]
    }
   ],
   "source": [
    "no_duplicate_letters(\"An apple a day keeps the doctor away.\")"
   ]
  },
  {
   "cell_type": "markdown",
   "id": "d347cc7a",
   "metadata": {},
   "source": [
    "Q 5. Write a regular expression that will match the states that voted yes to\n",
    "President Trump&#39;s impeachment. You must use RegEx positive lookahead.\n",
    "- Example\n",
    "- txt = &quot;Texas = no, California = yes, Florida = yes, Michigan = no&quot;\n"
   ]
  },
  {
   "cell_type": "markdown",
   "id": "31cb899f",
   "metadata": {},
   "source": [
    "ans:\n"
   ]
  },
  {
   "cell_type": "code",
   "execution_count": 25,
   "id": "50357bbb",
   "metadata": {},
   "outputs": [
    {
     "name": "stdout",
     "output_type": "stream",
     "text": [
      "['California', 'Florida']\n"
     ]
    }
   ],
   "source": [
    "txt = \"Texas = no, California = yes, Florida = yes, Michigan = no\"\n",
    "txt = txt.split()\n",
    "list_ = []\n",
    "for i in range(len(txt)):\n",
    "    if txt[i] == \"yes,\":\n",
    "        list_.append(txt[i-2])\n",
    "print(list_)        "
   ]
  },
  {
   "cell_type": "code",
   "execution_count": null,
   "id": "1ff296b1",
   "metadata": {},
   "outputs": [],
   "source": []
  }
 ],
 "metadata": {
  "kernelspec": {
   "display_name": "Python 3 (ipykernel)",
   "language": "python",
   "name": "python3"
  },
  "language_info": {
   "codemirror_mode": {
    "name": "ipython",
    "version": 3
   },
   "file_extension": ".py",
   "mimetype": "text/x-python",
   "name": "python",
   "nbconvert_exporter": "python",
   "pygments_lexer": "ipython3",
   "version": "3.9.12"
  }
 },
 "nbformat": 4,
 "nbformat_minor": 5
}
