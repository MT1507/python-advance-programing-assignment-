{
 "cells": [
  {
   "cell_type": "markdown",
   "id": "844b5243",
   "metadata": {},
   "source": [
    "Q 1. Write a function that takes a positive integer num and calculates how many\n",
    "dots exist in a pentagonal shape around the center dot on the Nth iteration.\n",
    "- In the image below you can see the first iteration is only a single dot. On the\n",
    "second, there are 6 dots. On the third, there are 16 dots, and on the fourth\n",
    "there are 31 dots.\n",
    "- Return the number of dots that exist in the whole pentagon on the Nth\n",
    "iteration.\n",
    "- Examples\n",
    "- pentagonal(1) ➞ 1\n",
    "- pentagonal(2) ➞ 6\n",
    "- pentagonal(3) ➞ 16\n",
    "- pentagonal(8) ➞ 141"
   ]
  },
  {
   "cell_type": "markdown",
   "id": "aab917c4",
   "metadata": {},
   "source": [
    "ans :"
   ]
  },
  {
   "cell_type": "code",
   "execution_count": 23,
   "id": "014f7ea1",
   "metadata": {},
   "outputs": [],
   "source": [
    "def pentagonal(num):\n",
    "     return (5 * num * num - 5 * num + 2) // 2\n",
    "    "
   ]
  },
  {
   "cell_type": "code",
   "execution_count": 24,
   "id": "16f883be",
   "metadata": {},
   "outputs": [
    {
     "data": {
      "text/plain": [
       "1"
      ]
     },
     "execution_count": 24,
     "metadata": {},
     "output_type": "execute_result"
    }
   ],
   "source": [
    "pentagonal(1)"
   ]
  },
  {
   "cell_type": "code",
   "execution_count": 25,
   "id": "4ef0fec4",
   "metadata": {},
   "outputs": [
    {
     "data": {
      "text/plain": [
       "6"
      ]
     },
     "execution_count": 25,
     "metadata": {},
     "output_type": "execute_result"
    }
   ],
   "source": [
    "pentagonal(2)"
   ]
  },
  {
   "cell_type": "code",
   "execution_count": 26,
   "id": "471b4dcf",
   "metadata": {},
   "outputs": [
    {
     "data": {
      "text/plain": [
       "16"
      ]
     },
     "execution_count": 26,
     "metadata": {},
     "output_type": "execute_result"
    }
   ],
   "source": [
    "pentagonal(3)"
   ]
  },
  {
   "cell_type": "code",
   "execution_count": 27,
   "id": "d4b3a1bd",
   "metadata": {},
   "outputs": [
    {
     "data": {
      "text/plain": [
       "141"
      ]
     },
     "execution_count": 27,
     "metadata": {},
     "output_type": "execute_result"
    }
   ],
   "source": [
    "pentagonal(8)"
   ]
  },
  {
   "cell_type": "markdown",
   "id": "6f021dfe",
   "metadata": {},
   "source": [
    "Q 2. Make a function that encrypts a given input with these steps:\n",
    "- Input: &quot;apple&quot;\n",
    "- Step 1: Reverse the input: &quot;elppa&quot;\n",
    "- Step 2: Replace all vowels using the following chart:\n",
    "- a =&gt; 0\n",
    "- e =&gt; 1\n",
    "- i =&gt; 2\n",
    "- o =&gt; 2\n",
    "- u =&gt; 3\n",
    "-  &quot;1lpp0&quot;\n",
    "- Step 3: Add &quot;aca&quot; to the end of the word: &quot;1lpp0aca&quot;\n",
    "- Output: &quot;1lpp0aca&quot;\n",
    "- Examples\n",
    "- encrypt(&quot;banana&quot;) ➞ &quot;0n0n0baca&quot;\n",
    "- encrypt(&quot;karaca&quot;) ➞ &quot;0c0r0kaca&quot;\n",
    "- encrypt(&quot;burak&quot;) ➞ &quot;k0r3baca&quot;\n",
    "- encrypt(&quot;alpaca&quot;) ➞ &quot;0c0pl0aca&quot;"
   ]
  },
  {
   "cell_type": "markdown",
   "id": "8874d6de",
   "metadata": {},
   "source": [
    "ans :"
   ]
  },
  {
   "cell_type": "code",
   "execution_count": 28,
   "id": "fb83647c",
   "metadata": {},
   "outputs": [],
   "source": [
    "def encrypt(string):\n",
    "    sample = {\"a\":0,\"e\":1,\"i\":2,\"o\":2,\"u\":3}\n",
    "    list = []\n",
    "    string = string[::-1]\n",
    "    for i in string:\n",
    "        if i in sample.keys():\n",
    "            i = sample[i]\n",
    "        list.append(str(i))\n",
    "    list.append(\"aca\")\n",
    "    return \"\".join(list)\n",
    "    "
   ]
  },
  {
   "cell_type": "code",
   "execution_count": 29,
   "id": "818ae653",
   "metadata": {},
   "outputs": [
    {
     "data": {
      "text/plain": [
       "'0n0n0baca'"
      ]
     },
     "execution_count": 29,
     "metadata": {},
     "output_type": "execute_result"
    }
   ],
   "source": [
    "encrypt(\"banana\")"
   ]
  },
  {
   "cell_type": "code",
   "execution_count": 30,
   "id": "e31f4069",
   "metadata": {},
   "outputs": [
    {
     "data": {
      "text/plain": [
       "'0c0r0kaca'"
      ]
     },
     "execution_count": 30,
     "metadata": {},
     "output_type": "execute_result"
    }
   ],
   "source": [
    "encrypt(\"karaca\")"
   ]
  },
  {
   "cell_type": "code",
   "execution_count": 31,
   "id": "8be9efc5",
   "metadata": {},
   "outputs": [
    {
     "data": {
      "text/plain": [
       "'k0r3baca'"
      ]
     },
     "execution_count": 31,
     "metadata": {},
     "output_type": "execute_result"
    }
   ],
   "source": [
    "encrypt(\"burak\")"
   ]
  },
  {
   "cell_type": "code",
   "execution_count": 32,
   "id": "4aaa0bda",
   "metadata": {},
   "outputs": [
    {
     "data": {
      "text/plain": [
       "'0c0pl0aca'"
      ]
     },
     "execution_count": 32,
     "metadata": {},
     "output_type": "execute_result"
    }
   ],
   "source": [
    "encrypt(\"alpaca\")\n"
   ]
  },
  {
   "cell_type": "markdown",
   "id": "8361fbe8",
   "metadata": {},
   "source": [
    "Q 3. Given the month and year as numbers, return whether that month contains\n",
    "a Friday 13th.(i.e You can check Python&#39;s datetime module)\n",
    "- Examples\n",
    "- has_friday_13(3, 2020) ➞ True\n",
    "- has_friday_13(10, 2017) ➞ True\n",
    "- has_friday_13(1, 1985) ➞ False"
   ]
  },
  {
   "cell_type": "markdown",
   "id": "6a5920c2",
   "metadata": {},
   "source": [
    "ans :"
   ]
  },
  {
   "cell_type": "code",
   "execution_count": 33,
   "id": "096d48c9",
   "metadata": {},
   "outputs": [],
   "source": [
    "import calendar\n",
    "\n",
    "def has_friday_13(month,year):\n",
    "    return str(calendar.weekday(year, month, 13)==4)"
   ]
  },
  {
   "cell_type": "code",
   "execution_count": 34,
   "id": "760b008f",
   "metadata": {},
   "outputs": [
    {
     "data": {
      "text/plain": [
       "'True'"
      ]
     },
     "execution_count": 34,
     "metadata": {},
     "output_type": "execute_result"
    }
   ],
   "source": [
    "has_friday_13(3, 2020) "
   ]
  },
  {
   "cell_type": "code",
   "execution_count": 35,
   "id": "68a1182f",
   "metadata": {},
   "outputs": [
    {
     "data": {
      "text/plain": [
       "'True'"
      ]
     },
     "execution_count": 35,
     "metadata": {},
     "output_type": "execute_result"
    }
   ],
   "source": [
    "has_friday_13(10, 2017)"
   ]
  },
  {
   "cell_type": "code",
   "execution_count": 36,
   "id": "34b98948",
   "metadata": {},
   "outputs": [
    {
     "data": {
      "text/plain": [
       "'False'"
      ]
     },
     "execution_count": 36,
     "metadata": {},
     "output_type": "execute_result"
    }
   ],
   "source": [
    "has_friday_13(1, 1985)"
   ]
  },
  {
   "cell_type": "markdown",
   "id": "ac11c9fc",
   "metadata": {},
   "source": [
    "Q 4. Write a regular expression that will help us count how many bad cookies\n",
    "are produced every day. You must use RegEx negative lookbehind.\n",
    "-Example\n",
    "- lst = [&quot;bad cookie&quot;, &quot;good cookie&quot;, &quot;bad cookie&quot;, &quot;good cookie&quot;, &quot;good cookie&quot;]\n",
    "- pattern = &quot;yourregularexpressionhere&quot;\n",
    "- len(re.findall(pattern, &quot;, &quot;.join(lst))) ➞ 2"
   ]
  },
  {
   "cell_type": "markdown",
   "id": "3a167655",
   "metadata": {},
   "source": [
    "ans :"
   ]
  },
  {
   "cell_type": "code",
   "execution_count": 37,
   "id": "e04ae549",
   "metadata": {},
   "outputs": [
    {
     "data": {
      "text/plain": [
       "2"
      ]
     },
     "execution_count": 37,
     "metadata": {},
     "output_type": "execute_result"
    }
   ],
   "source": [
    "import re\n",
    "\n",
    "lst = [\"bad cookie\", \"good cookie\", \"bad cookie\", \"good cookie\", \"good cookie\"]\n",
    "pattern =  \"bad cookie\"\n",
    "len(re.findall(pattern, \", \".join(lst)))"
   ]
  },
  {
   "cell_type": "markdown",
   "id": "d62f8678",
   "metadata": {},
   "source": [
    "Q 5. Given a list of words in the singular form, return a set of those words in the\n",
    "plural form if they appear more than once in the list.\n",
    "- Examples\n",
    "- pluralize([&quot;cow&quot;, &quot;pig&quot;, &quot;cow&quot;, &quot;cow&quot;]) ➞ { &quot;cows&quot;, &quot;pig&quot; }\n",
    "- pluralize([&quot;table&quot;, &quot;table&quot;, &quot;table&quot;]) ➞ { &quot;tables&quot; }\n",
    "\n",
    "- pluralize([&quot;chair&quot;, &quot;pencil&quot;, &quot;arm&quot;]) ➞ { &quot;chair&quot;, &quot;pencil&quot;, &quot;arm&quot; }"
   ]
  },
  {
   "cell_type": "markdown",
   "id": "6127133a",
   "metadata": {},
   "source": [
    "ans :"
   ]
  },
  {
   "cell_type": "code",
   "execution_count": 38,
   "id": "7bb37de4",
   "metadata": {},
   "outputs": [],
   "source": [
    "def pluralize(list):\n",
    "    list1 = []\n",
    "    for i in list:\n",
    "        if list.count(i)>1:\n",
    "            i = i+\"s\"\n",
    "        list1.append(i)\n",
    "    return set(list1 )   \n",
    "            "
   ]
  },
  {
   "cell_type": "code",
   "execution_count": 39,
   "id": "317cfb13",
   "metadata": {},
   "outputs": [
    {
     "data": {
      "text/plain": [
       "{'cows', 'pig'}"
      ]
     },
     "execution_count": 39,
     "metadata": {},
     "output_type": "execute_result"
    }
   ],
   "source": [
    "pluralize([\"cow\", \"pig\", \"cow\", \"cow\"])"
   ]
  },
  {
   "cell_type": "code",
   "execution_count": 40,
   "id": "1611117d",
   "metadata": {},
   "outputs": [
    {
     "data": {
      "text/plain": [
       "{'tables'}"
      ]
     },
     "execution_count": 40,
     "metadata": {},
     "output_type": "execute_result"
    }
   ],
   "source": [
    "pluralize([\"table\", \"table\", \"table\"]) "
   ]
  },
  {
   "cell_type": "code",
   "execution_count": 41,
   "id": "d7d69a51",
   "metadata": {},
   "outputs": [
    {
     "data": {
      "text/plain": [
       "{'arm', 'chair', 'pencil'}"
      ]
     },
     "execution_count": 41,
     "metadata": {},
     "output_type": "execute_result"
    }
   ],
   "source": [
    "pluralize([\"chair\", \"pencil\", \"arm\"]) "
   ]
  },
  {
   "cell_type": "code",
   "execution_count": null,
   "id": "d8c5afc9",
   "metadata": {},
   "outputs": [],
   "source": []
  },
  {
   "cell_type": "code",
   "execution_count": null,
   "id": "d01c8c94",
   "metadata": {},
   "outputs": [],
   "source": []
  }
 ],
 "metadata": {
  "kernelspec": {
   "display_name": "Python 3 (ipykernel)",
   "language": "python",
   "name": "python3"
  },
  "language_info": {
   "codemirror_mode": {
    "name": "ipython",
    "version": 3
   },
   "file_extension": ".py",
   "mimetype": "text/x-python",
   "name": "python",
   "nbconvert_exporter": "python",
   "pygments_lexer": "ipython3",
   "version": "3.9.12"
  }
 },
 "nbformat": 4,
 "nbformat_minor": 5
}
