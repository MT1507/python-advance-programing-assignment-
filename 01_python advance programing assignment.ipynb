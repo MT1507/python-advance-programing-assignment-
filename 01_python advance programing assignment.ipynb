{
 "cells": [
  {
   "cell_type": "markdown",
   "id": "d7f44588",
   "metadata": {},
   "source": [
    "Q 1. Write a function that takes a list of lists and returns the value of all of the\n",
    "symbols in it, where each symbol adds or takes something from the total\n",
    "score. Symbol values:\n",
    "- \"#\" = 5\n",
    "- O = 3\n",
    "- X = 1\n",
    "- ! = -1\n",
    "- !! = -3\n",
    "- !!! = -5\n",
    "- A list of lists containing 2 #s, a O, and a !!! would equal (0 + 5 + 5 + 3 - 5) 8.\n",
    "If the final score is negative, return 0 (e.g. 3 #s, 3 !!s, 2 !!!s and a X would be\n",
    "(0 + 5 + 5 + 5 - 3 - 3 - 3 - 5 - 5 + 1) -3, so return 0.\n",
    "- Examples\n",
    "- check_score([\n",
    "[&quot;#&quot;, &quot;!&quot;],\n",
    "[&quot;!!&quot;, &quot;X&quot;]\n",
    "]) ➞ 2\n",
    "- check_score([\n",
    "[&quot;!!!&quot;, &quot;O&quot;, &quot;!&quot;],\n",
    "[&quot;X&quot;, &quot;#&quot;, &quot;!!!&quot;],\n",
    "[&quot;!!&quot;, &quot;X&quot;, &quot;O&quot;]\n",
    "]) ➞ 0"
   ]
  },
  {
   "cell_type": "markdown",
   "id": "4928744e",
   "metadata": {},
   "source": [
    "ans:"
   ]
  },
  {
   "cell_type": "code",
   "execution_count": 26,
   "id": "fc0b7a75",
   "metadata": {},
   "outputs": [],
   "source": [
    "list1 = [\"#\",\"O\",\"X\",\"!\",\"!!\",\"!!!\"]\n",
    "list2 = [5,3,1,-1,-3,-5]\n",
    "\n",
    "dict = {}\n",
    "for i in range(len(list1)):\n",
    "    dict[list1[i]] = list2[i]\n",
    "def check_score(list1):\n",
    "    list3 = []\n",
    "    for i in list1:\n",
    "        for j in i:\n",
    "            if j in dict.keys():\n",
    "                list3.append(dict[j])\n",
    "                \n",
    "    if sum(list3) <=0:\n",
    "        return 0\n",
    "    else :\n",
    "        return sum(list3)"
   ]
  },
  {
   "cell_type": "code",
   "execution_count": 27,
   "id": "755ec99c",
   "metadata": {},
   "outputs": [
    {
     "data": {
      "text/plain": [
       "2"
      ]
     },
     "execution_count": 27,
     "metadata": {},
     "output_type": "execute_result"
    }
   ],
   "source": [
    "check_score([ [\"#\", \"!\"], [\"!!\", \"X\"] ])"
   ]
  },
  {
   "cell_type": "code",
   "execution_count": 28,
   "id": "7f6a51ce",
   "metadata": {},
   "outputs": [
    {
     "data": {
      "text/plain": [
       "0"
      ]
     },
     "execution_count": 28,
     "metadata": {},
     "output_type": "execute_result"
    }
   ],
   "source": [
    "check_score([ [\"!!!\", \"O\", \"!\"], [\"X\", \"#\", \"!!!\"], [\"!!\", \"X\", \"O\"] ])"
   ]
  },
  {
   "cell_type": "markdown",
   "id": "9f25037e",
   "metadata": {},
   "source": [
    "Q 2. Create a function that takes a variable number of arguments, each\n",
    "argument representing the number of items in a group, and returns the\n",
    "number of permutations (combinations) of items that you could get by taking\n",
    "one item from each group.\n",
    "- Examples\n",
    "- combinations(2, 3) ➞ 6\n",
    "- combinations(3, 7, 4) ➞ 84\n",
    "- combinations(2, 3, 4, 5) ➞ 120"
   ]
  },
  {
   "cell_type": "markdown",
   "id": "c90353bb",
   "metadata": {},
   "source": [
    "ans :"
   ]
  },
  {
   "cell_type": "code",
   "execution_count": 29,
   "id": "ec198fab",
   "metadata": {},
   "outputs": [],
   "source": [
    "import numpy as np\n",
    "def combinations(*args):\n",
    "    return np.prod(args)"
   ]
  },
  {
   "cell_type": "code",
   "execution_count": 30,
   "id": "a931e764",
   "metadata": {},
   "outputs": [
    {
     "data": {
      "text/plain": [
       "6"
      ]
     },
     "execution_count": 30,
     "metadata": {},
     "output_type": "execute_result"
    }
   ],
   "source": [
    "combinations(2, 3)"
   ]
  },
  {
   "cell_type": "code",
   "execution_count": 31,
   "id": "a50292de",
   "metadata": {},
   "outputs": [
    {
     "data": {
      "text/plain": [
       "84"
      ]
     },
     "execution_count": 31,
     "metadata": {},
     "output_type": "execute_result"
    }
   ],
   "source": [
    "combinations(3, 7, 4)"
   ]
  },
  {
   "cell_type": "code",
   "execution_count": 32,
   "id": "a4080d3f",
   "metadata": {},
   "outputs": [
    {
     "data": {
      "text/plain": [
       "120"
      ]
     },
     "execution_count": 32,
     "metadata": {},
     "output_type": "execute_result"
    }
   ],
   "source": [
    "combinations(2, 3, 4, 5)"
   ]
  },
  {
   "cell_type": "markdown",
   "id": "6e5fa287",
   "metadata": {},
   "source": [
    "Q 3. Create a function that takes a string as an argument and returns the Morse\n",
    "code equivalent.\n",
    "- Examples\n",
    "- encode_morse(&quot;EDABBIT CHALLENGE&quot;) ➞ &quot;. -.. .- -... -... .. - -.-. .... .- .-.. .-..\n",
    ". -. --. .&quot;\n",
    "- encode_morse(&quot;HELP ME !&quot;) ➞ &quot;.... . .-.. .--. -- . -.-.--&quot;\n",
    "- This dictionary can be used for coding:\n",
    "- char_to_dots = {\n",
    "&#39;A&#39;: &#39;.-&#39;, &#39;B&#39;: &#39;-...&#39;, &#39;C&#39;: &#39;-.-.&#39;, &#39;D&#39;: &#39;-..&#39;, &#39;E&#39;: &#39;.&#39;, &#39;F&#39;: &#39;..-.&#39;,\n",
    "&#39;G&#39;: &#39;--.&#39;, &#39;H&#39;: &#39;....&#39;, &#39;I&#39;: &#39;..&#39;, &#39;J&#39;: &#39;.---&#39;, &#39;K&#39;: &#39;-.-&#39;, &#39;L&#39;: &#39;.-..&#39;,\n",
    "&#39;M&#39;: &#39;--&#39;, &#39;N&#39;: &#39;-.&#39;, &#39;O&#39;: &#39;---&#39;, &#39;P&#39;: &#39;.--.&#39;, &#39;Q&#39;: &#39;--.-&#39;, &#39;R&#39;: &#39;.-.&#39;,\n",
    "&#39;S&#39;: &#39;...&#39;, &#39;T&#39;: &#39;-&#39;, &#39;U&#39;: &#39;..-&#39;, &#39;V&#39;: &#39;...-&#39;, &#39;W&#39;: &#39;.--&#39;, &#39;X&#39;: &#39;-..-&#39;,\n",
    "&#39;Y&#39;: &#39;-.--&#39;, &#39;Z&#39;: &#39;--..&#39;, &#39; &#39;: &#39; &#39;, &#39;0&#39;: &#39;-----&#39;,\n",
    "&#39;1&#39;: &#39;.----&#39;, &#39;2&#39;: &#39;..---&#39;, &#39;3&#39;: &#39;...--&#39;, &#39;4&#39;: &#39;....-&#39;, &#39;5&#39;: &#39;.....&#39;,\n",
    "&#39;6&#39;: &#39;-....&#39;, &#39;7&#39;: &#39;--...&#39;, &#39;8&#39;: &#39;---..&#39;, &#39;9&#39;: &#39;----.&#39;,\n",
    "&#39;&amp;&#39;: &#39;.-...&#39;, &quot;&#39;&quot;: &#39;.----.&#39;, &#39;@&#39;: &#39;.--.-.&#39;, &#39;)&#39;: &#39;-.--.-&#39;, &#39;(&#39;: &#39;-.--.&#39;,\n",
    "&#39;:&#39;: &#39;---...&#39;, &#39;,&#39;: &#39;--..--&#39;, &#39;=&#39;: &#39;-...-&#39;, &#39;!&#39;: &#39;-.-.--&#39;, &#39;.&#39;: &#39;.-.-.-&#39;,\n",
    "&#39;-&#39;: &#39;-....-&#39;, &#39;+&#39;: &#39;.-.-.&#39;, &#39;&quot;&#39;: &#39;.-..-.&#39;, &#39;?&#39;: &#39;..--..&#39;, &#39;/&#39;: &#39;-..-.&#39;\n",
    "}"
   ]
  },
  {
   "cell_type": "markdown",
   "id": "b51f0d0b",
   "metadata": {},
   "source": [
    "ans :"
   ]
  },
  {
   "cell_type": "code",
   "execution_count": 33,
   "id": "c29de01c",
   "metadata": {},
   "outputs": [],
   "source": [
    "char_to_dots = { 'A': '.-', 'B': '-...', 'C': '-.-.', 'D': '-..',\n",
    "                'E': '.', 'F': '..-.', 'G': '--.', 'H': '....',\n",
    "                'I': '..', 'J': '.---', 'K': '-.-', 'L': '.-..',\n",
    "                'M': '--', 'N': '-.', 'O': '---', 'P': '.--.',\n",
    "                'Q': '--.-', 'R': '.-.', 'S': '...', 'T': '-', \n",
    "                'U': '..-', 'V': '...-', 'W': '.--', 'X': '-..-',\n",
    "                'Y': '-.--', 'Z': '--..',\n",
    "                ' ': ' ', '0': '-----', '1': '.----', '2': '..---',\n",
    "                '3': '...--', '4': '....-', '5': '.....', '6': '-....',\n",
    "                '7': '--...', '8': '---..', '9': '----.', '&': '.-...',\n",
    "                \"'\": '.----.', '@': '.--.-.', ')': '-.--.-', '(': '-.--.',\n",
    "                ':': '---...', ',': '--..--', '=': '-...-', '!': '-.-.--',\n",
    "                '.': '.-.-.-', '-': '-....-', '+': '.-.-.', '\"': '.-..-.',\n",
    "                '?': '..--..', '/': '-..-.' }\n",
    "\n",
    "def encode_morse(string):\n",
    "    return \"\".join([char_to_dots[i] for i in string if i in char_to_dots.keys()])"
   ]
  },
  {
   "cell_type": "code",
   "execution_count": 34,
   "id": "d3e92b50",
   "metadata": {},
   "outputs": [
    {
     "data": {
      "text/plain": [
       "'.-...--...-.....- -.-......-.-...-...-.--..'"
      ]
     },
     "execution_count": 34,
     "metadata": {},
     "output_type": "execute_result"
    }
   ],
   "source": [
    "encode_morse(\"EDABBIT CHALLENGE\")"
   ]
  },
  {
   "cell_type": "code",
   "execution_count": 35,
   "id": "dcfcb066",
   "metadata": {},
   "outputs": [
    {
     "data": {
      "text/plain": [
       "'......-...--. --. -.-.--'"
      ]
     },
     "execution_count": 35,
     "metadata": {},
     "output_type": "execute_result"
    }
   ],
   "source": [
    "encode_morse(\"HELP ME !\")"
   ]
  },
  {
   "cell_type": "markdown",
   "id": "910f3ecc",
   "metadata": {},
   "source": [
    "Q 4. Write a function that takes a number and returns True if it&#39;s a prime; False\n",
    "otherwise. The number can be 2^64-1 (2 to the power of 63, not XOR). With\n",
    "the standard technique it would be O(2^64-1), which is much too large for the\n",
    "10 second time limit.\n",
    "- Examples\n",
    "- prime(7) ➞ True\n",
    "- prime(56963) ➞ True\n",
    "- prime(5151512515524) ➞ False"
   ]
  },
  {
   "cell_type": "markdown",
   "id": "50ca9c65",
   "metadata": {},
   "source": [
    "ans :"
   ]
  },
  {
   "cell_type": "code",
   "execution_count": 42,
   "id": "835c5c80",
   "metadata": {},
   "outputs": [],
   "source": [
    "import math\n",
    "def prime(num) :\n",
    "    prime_flag = 0\n",
    "    if(num > 1):\n",
    "        for i in range(2, int(math.sqrt(num)) + 1):\n",
    "            if (num % i == 0):\n",
    "                prime_flag = 1\n",
    "                break\n",
    "        if (prime_flag == 0):\n",
    "            print(\"True\")\n",
    "        else:\n",
    "            print(\"False\")\n",
    "    else:\n",
    "        print(\"False\")\n",
    "    "
   ]
  },
  {
   "cell_type": "code",
   "execution_count": 43,
   "id": "8332d90b",
   "metadata": {},
   "outputs": [
    {
     "name": "stdout",
     "output_type": "stream",
     "text": [
      "True\n"
     ]
    }
   ],
   "source": [
    "prime(7)"
   ]
  },
  {
   "cell_type": "code",
   "execution_count": 44,
   "id": "86810e71",
   "metadata": {},
   "outputs": [
    {
     "name": "stdout",
     "output_type": "stream",
     "text": [
      "True\n"
     ]
    }
   ],
   "source": [
    "prime(56963)"
   ]
  },
  {
   "cell_type": "code",
   "execution_count": 45,
   "id": "49fb2b2b",
   "metadata": {},
   "outputs": [
    {
     "name": "stdout",
     "output_type": "stream",
     "text": [
      "False\n"
     ]
    }
   ],
   "source": [
    "prime(5151512515524)"
   ]
  },
  {
   "cell_type": "markdown",
   "id": "ef5aa6ee",
   "metadata": {},
   "source": [
    "Q 5. Create a function that converts a word to a bitstring and then to a boolean\n",
    "list based on the following criteria:\n",
    "- 1. Locate the position of the letter in the English alphabet (from 1 to 26).\n",
    "- 2. Odd positions will be represented as 1 and 0 otherwise.\n",
    "- 3. Convert the represented positions to boolean values, 1 for True and 0 \n",
    "for False.\n",
    "- 4. Store the conversions into an array.\n",
    "- Examples\n",
    "- to_boolean_list(&quot;deep&quot;) ➞ [False, True, True, False]\n",
    "- deep converts to 0110\n",
    "- d is the 4th alphabet - 0\n",
    "- e is the 5th alphabet - 1\n",
    "- e is the 5th alphabet - 1\n",
    "- p is the 16th alphabet - 0\n",
    "- to_boolean_list(&quot;loves&quot;) ➞ [False, True, False, True, True]\n",
    "- to_boolean_list(&quot;tesh&quot;) ➞ [False, True, True, False]"
   ]
  },
  {
   "cell_type": "markdown",
   "id": "4f741d2f",
   "metadata": {},
   "source": [
    "ans:"
   ]
  },
  {
   "cell_type": "code",
   "execution_count": 46,
   "id": "cb1ea485",
   "metadata": {},
   "outputs": [],
   "source": [
    "def to_boolean_list(string):\n",
    "    l = ['a', 'b', 'c', 'd',\n",
    "     'e', 'f', 'g', 'h',\n",
    "     'i', 'j', 'k', 'l',\n",
    "     'm', 'n', 'o', 'p',\n",
    "     'q', 'r', 's', 't',\n",
    "     'u', 'v', 'w', 'x',\n",
    "     'y', 'z']\n",
    "    l1 = l[::2]\n",
    "    l2 = l[1::2]\n",
    "    l3 = []\n",
    "    for i in string:\n",
    "        if i in l1:\n",
    "            l3.append(True)\n",
    "        else :\n",
    "            l3.append(False)\n",
    "    return l3        \n",
    "            "
   ]
  },
  {
   "cell_type": "code",
   "execution_count": 47,
   "id": "18cf01dd",
   "metadata": {},
   "outputs": [
    {
     "data": {
      "text/plain": [
       "[False, True, True, False]"
      ]
     },
     "execution_count": 47,
     "metadata": {},
     "output_type": "execute_result"
    }
   ],
   "source": [
    "to_boolean_list(\"deep\") "
   ]
  },
  {
   "cell_type": "code",
   "execution_count": 48,
   "id": "9b6602fa",
   "metadata": {},
   "outputs": [
    {
     "data": {
      "text/plain": [
       "[False, True, False, True, True]"
      ]
     },
     "execution_count": 48,
     "metadata": {},
     "output_type": "execute_result"
    }
   ],
   "source": [
    "to_boolean_list(\"loves\")"
   ]
  },
  {
   "cell_type": "code",
   "execution_count": 49,
   "id": "16ce2449",
   "metadata": {},
   "outputs": [
    {
     "data": {
      "text/plain": [
       "[False, True, True, False]"
      ]
     },
     "execution_count": 49,
     "metadata": {},
     "output_type": "execute_result"
    }
   ],
   "source": [
    "to_boolean_list(\"tesh\")"
   ]
  },
  {
   "cell_type": "code",
   "execution_count": null,
   "id": "e6e7307f",
   "metadata": {},
   "outputs": [],
   "source": []
  }
 ],
 "metadata": {
  "kernelspec": {
   "display_name": "Python 3 (ipykernel)",
   "language": "python",
   "name": "python3"
  },
  "language_info": {
   "codemirror_mode": {
    "name": "ipython",
    "version": 3
   },
   "file_extension": ".py",
   "mimetype": "text/x-python",
   "name": "python",
   "nbconvert_exporter": "python",
   "pygments_lexer": "ipython3",
   "version": "3.9.12"
  }
 },
 "nbformat": 4,
 "nbformat_minor": 5
}
